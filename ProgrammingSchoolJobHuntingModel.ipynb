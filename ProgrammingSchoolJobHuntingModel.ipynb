{
  "nbformat": 4,
  "nbformat_minor": 0,
  "metadata": {
    "colab": {
      "name": "ProgrammingSchoolJobHuntingModel.ipynb",
      "provenance": [],
      "authorship_tag": "ABX9TyOmdUmyv/NxXXGMgQD7v3lg",
      "include_colab_link": true
    },
    "kernelspec": {
      "name": "python3",
      "display_name": "Python 3"
    },
    "language_info": {
      "name": "python"
    }
  },
  "cells": [
    {
      "cell_type": "markdown",
      "metadata": {
        "id": "view-in-github",
        "colab_type": "text"
      },
      "source": [
        "<a href=\"https://colab.research.google.com/github/httr1s0/programmingSchoolJobHuntingMachineLearningModelForPortfolio/blob/main/ProgrammingSchoolJobHuntingModel.ipynb\" target=\"_parent\"><img src=\"https://colab.research.google.com/assets/colab-badge.svg\" alt=\"Open In Colab\"/></a>"
      ]
    },
    {
      "cell_type": "markdown",
      "metadata": {
        "id": "KDQiyCJWXTFp"
      },
      "source": [
        "# **1.データ読み込み**"
      ]
    },
    {
      "cell_type": "markdown",
      "metadata": {
        "id": "BcymzMXgKE_1"
      },
      "source": [
        "## （１） 事前処理"
      ]
    },
    {
      "cell_type": "code",
      "metadata": {
        "colab": {
          "base_uri": "https://localhost:8080/"
        },
        "id": "sVicf5dkJ4T6",
        "outputId": "1a058618-a29a-4cad-872b-aa67b99cb8f3"
      },
      "source": [
        "# グーグルドライブのマウント\n",
        "from google.colab import drive\n",
        "drive.mount('/content/drive')\n",
        "\n",
        "# 日本語化\n",
        "!pip install japanize-matplotlib | tail -n 1\n",
        "\n",
        "# 事前処理\n",
        "import warnings\n",
        "warnings.filterwarnings('ignore')\n",
        "\n",
        "import pandas as pd\n",
        "import numpy as np\n",
        "import matplotlib.pyplot as plt\n",
        "\n",
        "import japanize_matplotlib\n",
        "\n",
        "from IPython.display import display\n",
        "\n",
        "np.set_printoptions(suppress=True, precision=4)\n",
        "pd.options.display.float_format = '{:.4f}'.format\n",
        "pd.set_option(\"display.max_columns\",None)\n",
        "plt.rcParams[\"font.size\"] = 14"
      ],
      "execution_count": 1,
      "outputs": [
        {
          "output_type": "stream",
          "text": [
            "Mounted at /content/drive\n",
            "Successfully installed japanize-matplotlib-1.1.3\n"
          ],
          "name": "stdout"
        }
      ]
    },
    {
      "cell_type": "markdown",
      "metadata": {
        "id": "6PQdur1OKWAs"
      },
      "source": [
        "## （２）データ読み込み"
      ]
    },
    {
      "cell_type": "code",
      "metadata": {
        "id": "ky2JLkFyKShx"
      },
      "source": [
        "# データ取得・カラム名決定\n",
        "import csv\n",
        "csvfile = open('/content/drive/My Drive/programmingSchoolJobHantingRecordForPortfolioPastData.csv', 'r', encoding='utf-8')\n",
        "\n",
        "df = pd.read_csv(csvfile)\n",
        "\n",
        "columns = ['年齢','性別','最終学歴','正社員歴','就業状況','ポートフォリオ有無','マネジメント経験','難関大卒','PF高クオリティ','有名企業在籍経験','中退歴','既往歴','短期離職経験','面談実施回数','希望年収','希望職種','希望業種','希望エリア','就活開始日','就活開始日（年）','就活開始日（月）','就活開始日（日）','応募数','１次面接実施数','２次面接以降実施数','内定数','内定承諾日','内定承諾日（年）','内定承諾日（月）','内定承諾日（日）','就職活動日数','書類選考通過率','内定獲得率']\n",
        "df.columns = columns"
      ],
      "execution_count": 2,
      "outputs": []
    },
    {
      "cell_type": "markdown",
      "metadata": {
        "id": "XJFI4J6XXTSO"
      },
      "source": [
        "# **2.データ確認**"
      ]
    },
    {
      "cell_type": "markdown",
      "metadata": {
        "id": "wCsAV6YnKz2i"
      },
      "source": [
        "## （１）データフレーム内容表示"
      ]
    },
    {
      "cell_type": "code",
      "metadata": {
        "colab": {
          "base_uri": "https://localhost:8080/",
          "height": 850
        },
        "id": "LyRo3QIQK3If",
        "outputId": "0f3357f0-736a-461d-9d55-9bc18bf9edf4"
      },
      "source": [
        "display(df.head())\n",
        "display(df.tail())\n",
        "print(df.shape)"
      ],
      "execution_count": 3,
      "outputs": [
        {
          "output_type": "display_data",
          "data": {
            "text/html": [
              "<div>\n",
              "<style scoped>\n",
              "    .dataframe tbody tr th:only-of-type {\n",
              "        vertical-align: middle;\n",
              "    }\n",
              "\n",
              "    .dataframe tbody tr th {\n",
              "        vertical-align: top;\n",
              "    }\n",
              "\n",
              "    .dataframe thead th {\n",
              "        text-align: right;\n",
              "    }\n",
              "</style>\n",
              "<table border=\"1\" class=\"dataframe\">\n",
              "  <thead>\n",
              "    <tr style=\"text-align: right;\">\n",
              "      <th></th>\n",
              "      <th>年齢</th>\n",
              "      <th>性別</th>\n",
              "      <th>最終学歴</th>\n",
              "      <th>正社員歴</th>\n",
              "      <th>就業状況</th>\n",
              "      <th>ポートフォリオ有無</th>\n",
              "      <th>マネジメント経験</th>\n",
              "      <th>難関大卒</th>\n",
              "      <th>PF高クオリティ</th>\n",
              "      <th>有名企業在籍経験</th>\n",
              "      <th>中退歴</th>\n",
              "      <th>既往歴</th>\n",
              "      <th>短期離職経験</th>\n",
              "      <th>面談実施回数</th>\n",
              "      <th>希望年収</th>\n",
              "      <th>希望職種</th>\n",
              "      <th>希望業種</th>\n",
              "      <th>希望エリア</th>\n",
              "      <th>就活開始日</th>\n",
              "      <th>就活開始日（年）</th>\n",
              "      <th>就活開始日（月）</th>\n",
              "      <th>就活開始日（日）</th>\n",
              "      <th>応募数</th>\n",
              "      <th>１次面接実施数</th>\n",
              "      <th>２次面接以降実施数</th>\n",
              "      <th>内定数</th>\n",
              "      <th>内定承諾日</th>\n",
              "      <th>内定承諾日（年）</th>\n",
              "      <th>内定承諾日（月）</th>\n",
              "      <th>内定承諾日（日）</th>\n",
              "      <th>就職活動日数</th>\n",
              "      <th>書類選考通過率</th>\n",
              "      <th>内定獲得率</th>\n",
              "    </tr>\n",
              "  </thead>\n",
              "  <tbody>\n",
              "    <tr>\n",
              "      <th>0</th>\n",
              "      <td>28</td>\n",
              "      <td>男</td>\n",
              "      <td>大卒</td>\n",
              "      <td>2</td>\n",
              "      <td>在職中</td>\n",
              "      <td>有</td>\n",
              "      <td>無</td>\n",
              "      <td>無</td>\n",
              "      <td>無</td>\n",
              "      <td>無</td>\n",
              "      <td>無</td>\n",
              "      <td>無</td>\n",
              "      <td>無</td>\n",
              "      <td>6</td>\n",
              "      <td>〜350万円</td>\n",
              "      <td>バックエンドエンジニア</td>\n",
              "      <td>受託開発企業</td>\n",
              "      <td>東京のみ</td>\n",
              "      <td>2019-01-07</td>\n",
              "      <td>2019</td>\n",
              "      <td>1</td>\n",
              "      <td>7</td>\n",
              "      <td>101</td>\n",
              "      <td>42</td>\n",
              "      <td>9</td>\n",
              "      <td>2</td>\n",
              "      <td>2019-04-06</td>\n",
              "      <td>2019</td>\n",
              "      <td>4</td>\n",
              "      <td>6</td>\n",
              "      <td>89</td>\n",
              "      <td>0.4158</td>\n",
              "      <td>0.0198</td>\n",
              "    </tr>\n",
              "    <tr>\n",
              "      <th>1</th>\n",
              "      <td>33</td>\n",
              "      <td>男</td>\n",
              "      <td>大卒</td>\n",
              "      <td>2</td>\n",
              "      <td>在職中</td>\n",
              "      <td>無</td>\n",
              "      <td>有</td>\n",
              "      <td>有</td>\n",
              "      <td>無</td>\n",
              "      <td>無</td>\n",
              "      <td>無</td>\n",
              "      <td>無</td>\n",
              "      <td>無</td>\n",
              "      <td>3</td>\n",
              "      <td>〜350万円</td>\n",
              "      <td>フロントエンドエンジニア</td>\n",
              "      <td>受託開発企業</td>\n",
              "      <td>東京・大阪</td>\n",
              "      <td>2019-01-07</td>\n",
              "      <td>2019</td>\n",
              "      <td>1</td>\n",
              "      <td>7</td>\n",
              "      <td>85</td>\n",
              "      <td>13</td>\n",
              "      <td>6</td>\n",
              "      <td>4</td>\n",
              "      <td>2019-03-28</td>\n",
              "      <td>2019</td>\n",
              "      <td>3</td>\n",
              "      <td>28</td>\n",
              "      <td>80</td>\n",
              "      <td>0.1529</td>\n",
              "      <td>0.0471</td>\n",
              "    </tr>\n",
              "    <tr>\n",
              "      <th>2</th>\n",
              "      <td>27</td>\n",
              "      <td>男</td>\n",
              "      <td>高卒</td>\n",
              "      <td>3</td>\n",
              "      <td>離職中</td>\n",
              "      <td>有</td>\n",
              "      <td>無</td>\n",
              "      <td>無</td>\n",
              "      <td>無</td>\n",
              "      <td>無</td>\n",
              "      <td>無</td>\n",
              "      <td>無</td>\n",
              "      <td>無</td>\n",
              "      <td>13</td>\n",
              "      <td>〜350万円</td>\n",
              "      <td>フロントエンドエンジニア</td>\n",
              "      <td>受託開発企業</td>\n",
              "      <td>東京のみ</td>\n",
              "      <td>2019-01-07</td>\n",
              "      <td>2019</td>\n",
              "      <td>1</td>\n",
              "      <td>7</td>\n",
              "      <td>150</td>\n",
              "      <td>29</td>\n",
              "      <td>5</td>\n",
              "      <td>2</td>\n",
              "      <td>2019-04-14</td>\n",
              "      <td>2019</td>\n",
              "      <td>4</td>\n",
              "      <td>14</td>\n",
              "      <td>97</td>\n",
              "      <td>0.1933</td>\n",
              "      <td>0.0133</td>\n",
              "    </tr>\n",
              "    <tr>\n",
              "      <th>3</th>\n",
              "      <td>27</td>\n",
              "      <td>男</td>\n",
              "      <td>短大卒・専門卒</td>\n",
              "      <td>2</td>\n",
              "      <td>在職中</td>\n",
              "      <td>無</td>\n",
              "      <td>無</td>\n",
              "      <td>無</td>\n",
              "      <td>無</td>\n",
              "      <td>無</td>\n",
              "      <td>無</td>\n",
              "      <td>無</td>\n",
              "      <td>無</td>\n",
              "      <td>9</td>\n",
              "      <td>〜300万円</td>\n",
              "      <td>フロントエンドエンジニア</td>\n",
              "      <td>自社開発企業</td>\n",
              "      <td>東京のみ</td>\n",
              "      <td>2019-01-07</td>\n",
              "      <td>2019</td>\n",
              "      <td>1</td>\n",
              "      <td>7</td>\n",
              "      <td>66</td>\n",
              "      <td>16</td>\n",
              "      <td>4</td>\n",
              "      <td>1</td>\n",
              "      <td>2019-05-13</td>\n",
              "      <td>2019</td>\n",
              "      <td>5</td>\n",
              "      <td>13</td>\n",
              "      <td>126</td>\n",
              "      <td>0.2424</td>\n",
              "      <td>0.0152</td>\n",
              "    </tr>\n",
              "    <tr>\n",
              "      <th>4</th>\n",
              "      <td>31</td>\n",
              "      <td>男</td>\n",
              "      <td>大卒</td>\n",
              "      <td>3</td>\n",
              "      <td>離職中</td>\n",
              "      <td>有</td>\n",
              "      <td>有</td>\n",
              "      <td>無</td>\n",
              "      <td>無</td>\n",
              "      <td>無</td>\n",
              "      <td>無</td>\n",
              "      <td>無</td>\n",
              "      <td>無</td>\n",
              "      <td>3</td>\n",
              "      <td>〜350万円</td>\n",
              "      <td>フロントエンドエンジニア</td>\n",
              "      <td>受託開発企業</td>\n",
              "      <td>大阪のみ</td>\n",
              "      <td>2019-01-07</td>\n",
              "      <td>2019</td>\n",
              "      <td>1</td>\n",
              "      <td>7</td>\n",
              "      <td>73</td>\n",
              "      <td>27</td>\n",
              "      <td>8</td>\n",
              "      <td>3</td>\n",
              "      <td>2019-03-01</td>\n",
              "      <td>2019</td>\n",
              "      <td>3</td>\n",
              "      <td>1</td>\n",
              "      <td>53</td>\n",
              "      <td>0.3699</td>\n",
              "      <td>0.0411</td>\n",
              "    </tr>\n",
              "  </tbody>\n",
              "</table>\n",
              "</div>"
            ],
            "text/plain": [
              "   年齢 性別     最終学歴  正社員歴 就業状況 ポートフォリオ有無 マネジメント経験 難関大卒 PF高クオリティ 有名企業在籍経験 中退歴  \\\n",
              "0  28  男       大卒     2  在職中         有        無    無        無        無   無   \n",
              "1  33  男       大卒     2  在職中         無        有    有        無        無   無   \n",
              "2  27  男       高卒     3  離職中         有        無    無        無        無   無   \n",
              "3  27  男  短大卒・専門卒     2  在職中         無        無    無        無        無   無   \n",
              "4  31  男       大卒     3  離職中         有        有    無        無        無   無   \n",
              "\n",
              "  既往歴 短期離職経験  面談実施回数    希望年収          希望職種    希望業種  希望エリア       就活開始日  \\\n",
              "0   無      無       6  〜350万円   バックエンドエンジニア  受託開発企業   東京のみ  2019-01-07   \n",
              "1   無      無       3  〜350万円  フロントエンドエンジニア  受託開発企業  東京・大阪  2019-01-07   \n",
              "2   無      無      13  〜350万円  フロントエンドエンジニア  受託開発企業   東京のみ  2019-01-07   \n",
              "3   無      無       9  〜300万円  フロントエンドエンジニア  自社開発企業   東京のみ  2019-01-07   \n",
              "4   無      無       3  〜350万円  フロントエンドエンジニア  受託開発企業   大阪のみ  2019-01-07   \n",
              "\n",
              "   就活開始日（年）  就活開始日（月）  就活開始日（日）  応募数  １次面接実施数  ２次面接以降実施数  内定数       内定承諾日  \\\n",
              "0      2019         1         7  101       42          9    2  2019-04-06   \n",
              "1      2019         1         7   85       13          6    4  2019-03-28   \n",
              "2      2019         1         7  150       29          5    2  2019-04-14   \n",
              "3      2019         1         7   66       16          4    1  2019-05-13   \n",
              "4      2019         1         7   73       27          8    3  2019-03-01   \n",
              "\n",
              "   内定承諾日（年）  内定承諾日（月）  内定承諾日（日）  就職活動日数  書類選考通過率  内定獲得率  \n",
              "0      2019         4         6      89   0.4158 0.0198  \n",
              "1      2019         3        28      80   0.1529 0.0471  \n",
              "2      2019         4        14      97   0.1933 0.0133  \n",
              "3      2019         5        13     126   0.2424 0.0152  \n",
              "4      2019         3         1      53   0.3699 0.0411  "
            ]
          },
          "metadata": {
            "tags": []
          }
        },
        {
          "output_type": "display_data",
          "data": {
            "text/html": [
              "<div>\n",
              "<style scoped>\n",
              "    .dataframe tbody tr th:only-of-type {\n",
              "        vertical-align: middle;\n",
              "    }\n",
              "\n",
              "    .dataframe tbody tr th {\n",
              "        vertical-align: top;\n",
              "    }\n",
              "\n",
              "    .dataframe thead th {\n",
              "        text-align: right;\n",
              "    }\n",
              "</style>\n",
              "<table border=\"1\" class=\"dataframe\">\n",
              "  <thead>\n",
              "    <tr style=\"text-align: right;\">\n",
              "      <th></th>\n",
              "      <th>年齢</th>\n",
              "      <th>性別</th>\n",
              "      <th>最終学歴</th>\n",
              "      <th>正社員歴</th>\n",
              "      <th>就業状況</th>\n",
              "      <th>ポートフォリオ有無</th>\n",
              "      <th>マネジメント経験</th>\n",
              "      <th>難関大卒</th>\n",
              "      <th>PF高クオリティ</th>\n",
              "      <th>有名企業在籍経験</th>\n",
              "      <th>中退歴</th>\n",
              "      <th>既往歴</th>\n",
              "      <th>短期離職経験</th>\n",
              "      <th>面談実施回数</th>\n",
              "      <th>希望年収</th>\n",
              "      <th>希望職種</th>\n",
              "      <th>希望業種</th>\n",
              "      <th>希望エリア</th>\n",
              "      <th>就活開始日</th>\n",
              "      <th>就活開始日（年）</th>\n",
              "      <th>就活開始日（月）</th>\n",
              "      <th>就活開始日（日）</th>\n",
              "      <th>応募数</th>\n",
              "      <th>１次面接実施数</th>\n",
              "      <th>２次面接以降実施数</th>\n",
              "      <th>内定数</th>\n",
              "      <th>内定承諾日</th>\n",
              "      <th>内定承諾日（年）</th>\n",
              "      <th>内定承諾日（月）</th>\n",
              "      <th>内定承諾日（日）</th>\n",
              "      <th>就職活動日数</th>\n",
              "      <th>書類選考通過率</th>\n",
              "      <th>内定獲得率</th>\n",
              "    </tr>\n",
              "  </thead>\n",
              "  <tbody>\n",
              "    <tr>\n",
              "      <th>4401</th>\n",
              "      <td>29</td>\n",
              "      <td>男</td>\n",
              "      <td>大卒</td>\n",
              "      <td>3</td>\n",
              "      <td>在職中</td>\n",
              "      <td>有</td>\n",
              "      <td>有</td>\n",
              "      <td>無</td>\n",
              "      <td>無</td>\n",
              "      <td>無</td>\n",
              "      <td>無</td>\n",
              "      <td>無</td>\n",
              "      <td>無</td>\n",
              "      <td>7</td>\n",
              "      <td>〜300万円</td>\n",
              "      <td>希望なし・その他</td>\n",
              "      <td>受託開発企業</td>\n",
              "      <td>東京のみ</td>\n",
              "      <td>2021-01-18</td>\n",
              "      <td>2021</td>\n",
              "      <td>1</td>\n",
              "      <td>18</td>\n",
              "      <td>106</td>\n",
              "      <td>22</td>\n",
              "      <td>11</td>\n",
              "      <td>2</td>\n",
              "      <td>2021-04-26</td>\n",
              "      <td>2021</td>\n",
              "      <td>4</td>\n",
              "      <td>26</td>\n",
              "      <td>98</td>\n",
              "      <td>0.2075</td>\n",
              "      <td>0.0189</td>\n",
              "    </tr>\n",
              "    <tr>\n",
              "      <th>4402</th>\n",
              "      <td>31</td>\n",
              "      <td>女</td>\n",
              "      <td>大卒</td>\n",
              "      <td>2</td>\n",
              "      <td>離職中</td>\n",
              "      <td>無</td>\n",
              "      <td>無</td>\n",
              "      <td>有</td>\n",
              "      <td>無</td>\n",
              "      <td>無</td>\n",
              "      <td>無</td>\n",
              "      <td>無</td>\n",
              "      <td>無</td>\n",
              "      <td>6</td>\n",
              "      <td>〜300万円</td>\n",
              "      <td>フロントエンドエンジニア</td>\n",
              "      <td>希望なし・その他</td>\n",
              "      <td>東京・大阪</td>\n",
              "      <td>2021-01-18</td>\n",
              "      <td>2021</td>\n",
              "      <td>1</td>\n",
              "      <td>18</td>\n",
              "      <td>108</td>\n",
              "      <td>43</td>\n",
              "      <td>5</td>\n",
              "      <td>2</td>\n",
              "      <td>2021-04-24</td>\n",
              "      <td>2021</td>\n",
              "      <td>4</td>\n",
              "      <td>24</td>\n",
              "      <td>96</td>\n",
              "      <td>0.3981</td>\n",
              "      <td>0.0185</td>\n",
              "    </tr>\n",
              "    <tr>\n",
              "      <th>4403</th>\n",
              "      <td>28</td>\n",
              "      <td>男</td>\n",
              "      <td>高卒</td>\n",
              "      <td>1</td>\n",
              "      <td>在職中</td>\n",
              "      <td>有</td>\n",
              "      <td>有</td>\n",
              "      <td>無</td>\n",
              "      <td>無</td>\n",
              "      <td>有</td>\n",
              "      <td>無</td>\n",
              "      <td>無</td>\n",
              "      <td>無</td>\n",
              "      <td>13</td>\n",
              "      <td>〜300万円</td>\n",
              "      <td>希望なし・その他</td>\n",
              "      <td>受託開発企業</td>\n",
              "      <td>東京・大阪</td>\n",
              "      <td>2021-01-18</td>\n",
              "      <td>2021</td>\n",
              "      <td>1</td>\n",
              "      <td>18</td>\n",
              "      <td>57</td>\n",
              "      <td>44</td>\n",
              "      <td>9</td>\n",
              "      <td>3</td>\n",
              "      <td>2021-04-24</td>\n",
              "      <td>2021</td>\n",
              "      <td>4</td>\n",
              "      <td>24</td>\n",
              "      <td>96</td>\n",
              "      <td>0.7719</td>\n",
              "      <td>0.0526</td>\n",
              "    </tr>\n",
              "    <tr>\n",
              "      <th>4404</th>\n",
              "      <td>27</td>\n",
              "      <td>男</td>\n",
              "      <td>短大卒・専門卒</td>\n",
              "      <td>0</td>\n",
              "      <td>離職中</td>\n",
              "      <td>有</td>\n",
              "      <td>無</td>\n",
              "      <td>無</td>\n",
              "      <td>無</td>\n",
              "      <td>無</td>\n",
              "      <td>無</td>\n",
              "      <td>無</td>\n",
              "      <td>無</td>\n",
              "      <td>13</td>\n",
              "      <td>〜350万円</td>\n",
              "      <td>フロントエンドエンジニア</td>\n",
              "      <td>受託開発企業</td>\n",
              "      <td>東京のみ</td>\n",
              "      <td>2021-01-18</td>\n",
              "      <td>2021</td>\n",
              "      <td>1</td>\n",
              "      <td>18</td>\n",
              "      <td>74</td>\n",
              "      <td>16</td>\n",
              "      <td>7</td>\n",
              "      <td>2</td>\n",
              "      <td>2021-04-25</td>\n",
              "      <td>2021</td>\n",
              "      <td>4</td>\n",
              "      <td>25</td>\n",
              "      <td>97</td>\n",
              "      <td>0.2162</td>\n",
              "      <td>0.0270</td>\n",
              "    </tr>\n",
              "    <tr>\n",
              "      <th>4405</th>\n",
              "      <td>30</td>\n",
              "      <td>男</td>\n",
              "      <td>大卒</td>\n",
              "      <td>2</td>\n",
              "      <td>在職中</td>\n",
              "      <td>有</td>\n",
              "      <td>無</td>\n",
              "      <td>無</td>\n",
              "      <td>無</td>\n",
              "      <td>無</td>\n",
              "      <td>無</td>\n",
              "      <td>無</td>\n",
              "      <td>無</td>\n",
              "      <td>6</td>\n",
              "      <td>〜350万円</td>\n",
              "      <td>バックエンドエンジニア</td>\n",
              "      <td>自社開発企業</td>\n",
              "      <td>大阪のみ</td>\n",
              "      <td>2021-01-18</td>\n",
              "      <td>2021</td>\n",
              "      <td>1</td>\n",
              "      <td>18</td>\n",
              "      <td>93</td>\n",
              "      <td>27</td>\n",
              "      <td>11</td>\n",
              "      <td>3</td>\n",
              "      <td>2021-04-25</td>\n",
              "      <td>2021</td>\n",
              "      <td>4</td>\n",
              "      <td>25</td>\n",
              "      <td>97</td>\n",
              "      <td>0.2903</td>\n",
              "      <td>0.0323</td>\n",
              "    </tr>\n",
              "  </tbody>\n",
              "</table>\n",
              "</div>"
            ],
            "text/plain": [
              "      年齢 性別     最終学歴  正社員歴 就業状況 ポートフォリオ有無 マネジメント経験 難関大卒 PF高クオリティ 有名企業在籍経験 中退歴  \\\n",
              "4401  29  男       大卒     3  在職中         有        有    無        無        無   無   \n",
              "4402  31  女       大卒     2  離職中         無        無    有        無        無   無   \n",
              "4403  28  男       高卒     1  在職中         有        有    無        無        有   無   \n",
              "4404  27  男  短大卒・専門卒     0  離職中         有        無    無        無        無   無   \n",
              "4405  30  男       大卒     2  在職中         有        無    無        無        無   無   \n",
              "\n",
              "     既往歴 短期離職経験  面談実施回数    希望年収          希望職種      希望業種  希望エリア       就活開始日  \\\n",
              "4401   無      無       7  〜300万円      希望なし・その他    受託開発企業   東京のみ  2021-01-18   \n",
              "4402   無      無       6  〜300万円  フロントエンドエンジニア  希望なし・その他  東京・大阪  2021-01-18   \n",
              "4403   無      無      13  〜300万円      希望なし・その他    受託開発企業  東京・大阪  2021-01-18   \n",
              "4404   無      無      13  〜350万円  フロントエンドエンジニア    受託開発企業   東京のみ  2021-01-18   \n",
              "4405   無      無       6  〜350万円   バックエンドエンジニア    自社開発企業   大阪のみ  2021-01-18   \n",
              "\n",
              "      就活開始日（年）  就活開始日（月）  就活開始日（日）  応募数  １次面接実施数  ２次面接以降実施数  内定数       内定承諾日  \\\n",
              "4401      2021         1        18  106       22         11    2  2021-04-26   \n",
              "4402      2021         1        18  108       43          5    2  2021-04-24   \n",
              "4403      2021         1        18   57       44          9    3  2021-04-24   \n",
              "4404      2021         1        18   74       16          7    2  2021-04-25   \n",
              "4405      2021         1        18   93       27         11    3  2021-04-25   \n",
              "\n",
              "      内定承諾日（年）  内定承諾日（月）  内定承諾日（日）  就職活動日数  書類選考通過率  内定獲得率  \n",
              "4401      2021         4        26      98   0.2075 0.0189  \n",
              "4402      2021         4        24      96   0.3981 0.0185  \n",
              "4403      2021         4        24      96   0.7719 0.0526  \n",
              "4404      2021         4        25      97   0.2162 0.0270  \n",
              "4405      2021         4        25      97   0.2903 0.0323  "
            ]
          },
          "metadata": {
            "tags": []
          }
        },
        {
          "output_type": "stream",
          "text": [
            "(4406, 33)\n"
          ],
          "name": "stdout"
        }
      ]
    },
    {
      "cell_type": "markdown",
      "metadata": {
        "id": "sI7l6W1bLKAn"
      },
      "source": [
        "## （２）データヒストグラム表示"
      ]
    },
    {
      "cell_type": "code",
      "metadata": {
        "colab": {
          "base_uri": "https://localhost:8080/",
          "height": 878
        },
        "id": "J9HMkvBeLSaG",
        "outputId": "c8857710-43fa-414b-d58e-63ffc35c93bf"
      },
      "source": [
        "from pylab import rcParams\n",
        "rcParams['figure.figsize'] = (15,15)\n",
        "\n",
        "df.hist(bins=50)\n",
        "plt.show()"
      ],
      "execution_count": 4,
      "outputs": [
        {
          "output_type": "display_data",
          "data": {
            "image/png": "[encoded data removed]",
            "text/plain": [
              "<Figure size 1080x1080 with 16 Axes>"
            ]
          },
          "metadata": {
            "tags": [],
            "needs_background": "light"
          }
        }
      ]
    },
    {
      "cell_type": "markdown",
      "metadata": {
        "id": "UIvVYKxeLeBW"
      },
      "source": [
        "## （３）欠損値チェック"
      ]
    },
    {
      "cell_type": "code",
      "metadata": {
        "colab": {
          "base_uri": "https://localhost:8080/"
        },
        "id": "Tm8MZjZoLgMK",
        "outputId": "5c1313a0-effd-46ff-b737-a493079a755a"
      },
      "source": [
        "df.isnull().sum()"
      ],
      "execution_count": 5,
      "outputs": [
        {
          "output_type": "execute_result",
          "data": {
            "text/plain": [
              "年齢           0\n",
              "性別           0\n",
              "最終学歴         0\n",
              "正社員歴         0\n",
              "就業状況         0\n",
              "ポートフォリオ有無    0\n",
              "マネジメント経験     0\n",
              "難関大卒         0\n",
              "PF高クオリティ     0\n",
              "有名企業在籍経験     0\n",
              "中退歴          0\n",
              "既往歴          0\n",
              "短期離職経験       0\n",
              "面談実施回数       0\n",
              "希望年収         0\n",
              "希望職種         0\n",
              "希望業種         0\n",
              "希望エリア        0\n",
              "就活開始日        0\n",
              "就活開始日（年）     0\n",
              "就活開始日（月）     0\n",
              "就活開始日（日）     0\n",
              "応募数          0\n",
              "１次面接実施数      0\n",
              "２次面接以降実施数    0\n",
              "内定数          0\n",
              "内定承諾日        0\n",
              "内定承諾日（年）     0\n",
              "内定承諾日（月）     0\n",
              "内定承諾日（日）     0\n",
              "就職活動日数       0\n",
              "書類選考通過率      0\n",
              "内定獲得率        0\n",
              "dtype: int64"
            ]
          },
          "metadata": {
            "tags": []
          },
          "execution_count": 5
        }
      ]
    },
    {
      "cell_type": "markdown",
      "metadata": {
        "id": "WbqIy5_9XTa0"
      },
      "source": [
        "# **3.データ前処理**"
      ]
    },
    {
      "cell_type": "markdown",
      "metadata": {
        "id": "xv7wigiDMSX8"
      },
      "source": [
        "## （１）2値ラベルの数値化"
      ]
    },
    {
      "cell_type": "code",
      "metadata": {
        "id": "9rpWGLdUMVNq"
      },
      "source": [
        "mf_map = {'男':1, '女':0}\n",
        "pf_map = {'有':1, '無':0}\n",
        "manegement_map = {'有':1, '無':0}\n",
        "high_level_univ_map = {'有':1, '無':0}\n",
        "high_quality_pf_map = {'有':1, '無':0}\n",
        "famous_company_map = {'有':1, '無':0}\n",
        "drop_out_school_map = {'有':1, '無':0}\n",
        "quit_early_map = {'有':1, '無':0}\n",
        "\n",
        "df['性別'] = df['性別'].map(mf_map)\n",
        "df['ポートフォリオ有無'] = df['ポートフォリオ有無'].map(pf_map)\n",
        "df['マネジメント経験'] = df['マネジメント経験'].map(manegement_map)\n",
        "df['難関大卒'] = df['難関大卒'].map(high_level_univ_map)\n",
        "df['PF高クオリティ'] = df['PF高クオリティ'].map(high_quality_pf_map)\n",
        "df['有名企業在籍経験'] = df['有名企業在籍経験'].map(famous_company_map)\n",
        "\n",
        "\n",
        "df['中退歴'] = df['中退歴'].map(drop_out_school_map)\n",
        "df['短期離職経験'] = df['短期離職経験'].map(quit_early_map)"
      ],
      "execution_count": 6,
      "outputs": []
    },
    {
      "cell_type": "markdown",
      "metadata": {
        "id": "BE8wpdVVNDBI"
      },
      "source": [
        "## （２）多値ラベルの数値化"
      ]
    },
    {
      "cell_type": "code",
      "metadata": {
        "id": "wD4IERvUNDRS"
      },
      "source": [
        "def enc(df,column):\n",
        "  df_dummy = pd.get_dummies(df[column], prefix=column)\n",
        "\n",
        "  df_drop = df.drop([column], axis=1)\n",
        "\n",
        "  df1 = pd.concat([df_drop,df_dummy], axis=1)\n",
        "\n",
        "  return df1"
      ],
      "execution_count": 7,
      "outputs": []
    },
    {
      "cell_type": "code",
      "metadata": {
        "colab": {
          "base_uri": "https://localhost:8080/",
          "height": 615
        },
        "id": "-GwsulbmNND1",
        "outputId": "2abdaabd-9662-411c-9b40-e3e0bd228a32"
      },
      "source": [
        "df = enc(df, '最終学歴')\n",
        "df = enc(df, '就業状況')\n",
        "df = enc(df, '既往歴')\n",
        "df = enc(df, '希望年収')\n",
        "df = enc(df, '希望職種')\n",
        "df = enc(df, '希望業種')\n",
        "df = enc(df, '希望エリア')\n",
        "\n",
        "display(df.head())"
      ],
      "execution_count": 8,
      "outputs": [
        {
          "output_type": "display_data",
          "data": {
            "text/html": [
              "<div>\n",
              "<style scoped>\n",
              "    .dataframe tbody tr th:only-of-type {\n",
              "        vertical-align: middle;\n",
              "    }\n",
              "\n",
              "    .dataframe tbody tr th {\n",
              "        vertical-align: top;\n",
              "    }\n",
              "\n",
              "    .dataframe thead th {\n",
              "        text-align: right;\n",
              "    }\n",
              "</style>\n",
              "<table border=\"1\" class=\"dataframe\">\n",
              "  <thead>\n",
              "    <tr style=\"text-align: right;\">\n",
              "      <th></th>\n",
              "      <th>年齢</th>\n",
              "      <th>性別</th>\n",
              "      <th>正社員歴</th>\n",
              "      <th>ポートフォリオ有無</th>\n",
              "      <th>マネジメント経験</th>\n",
              "      <th>難関大卒</th>\n",
              "      <th>PF高クオリティ</th>\n",
              "      <th>有名企業在籍経験</th>\n",
              "      <th>中退歴</th>\n",
              "      <th>短期離職経験</th>\n",
              "      <th>面談実施回数</th>\n",
              "      <th>就活開始日</th>\n",
              "      <th>就活開始日（年）</th>\n",
              "      <th>就活開始日（月）</th>\n",
              "      <th>就活開始日（日）</th>\n",
              "      <th>応募数</th>\n",
              "      <th>１次面接実施数</th>\n",
              "      <th>２次面接以降実施数</th>\n",
              "      <th>内定数</th>\n",
              "      <th>内定承諾日</th>\n",
              "      <th>内定承諾日（年）</th>\n",
              "      <th>内定承諾日（月）</th>\n",
              "      <th>内定承諾日（日）</th>\n",
              "      <th>就職活動日数</th>\n",
              "      <th>書類選考通過率</th>\n",
              "      <th>内定獲得率</th>\n",
              "      <th>最終学歴_中卒</th>\n",
              "      <th>最終学歴_大卒</th>\n",
              "      <th>最終学歴_短大卒・専門卒</th>\n",
              "      <th>最終学歴_院卒</th>\n",
              "      <th>最終学歴_高卒</th>\n",
              "      <th>最終学歴_高専卒</th>\n",
              "      <th>就業状況_バイト・派遣</th>\n",
              "      <th>就業状況_在職中</th>\n",
              "      <th>就業状況_離職中</th>\n",
              "      <th>既往歴_無</th>\n",
              "      <th>既往歴_精神</th>\n",
              "      <th>既往歴_身体</th>\n",
              "      <th>希望年収_400万円以上</th>\n",
              "      <th>希望年収_〜300万円</th>\n",
              "      <th>希望年収_〜350万円</th>\n",
              "      <th>希望年収_〜400万円</th>\n",
              "      <th>希望年収_希望なし</th>\n",
              "      <th>希望職種_ITコンサル・営業</th>\n",
              "      <th>希望職種_インフラエンジニア</th>\n",
              "      <th>希望職種_バックエンドエンジニア</th>\n",
              "      <th>希望職種_フロントエンドエンジニア</th>\n",
              "      <th>希望職種_希望なし・その他</th>\n",
              "      <th>希望業種_SES</th>\n",
              "      <th>希望業種_受託開発企業</th>\n",
              "      <th>希望業種_希望なし・その他</th>\n",
              "      <th>希望業種_自社開発企業</th>\n",
              "      <th>希望エリア_その他地方都市</th>\n",
              "      <th>希望エリア_全国可</th>\n",
              "      <th>希望エリア_大阪のみ</th>\n",
              "      <th>希望エリア_東京のみ</th>\n",
              "      <th>希望エリア_東京・大阪</th>\n",
              "    </tr>\n",
              "  </thead>\n",
              "  <tbody>\n",
              "    <tr>\n",
              "      <th>0</th>\n",
              "      <td>28</td>\n",
              "      <td>1</td>\n",
              "      <td>2</td>\n",
              "      <td>1</td>\n",
              "      <td>0</td>\n",
              "      <td>0</td>\n",
              "      <td>0</td>\n",
              "      <td>0</td>\n",
              "      <td>0</td>\n",
              "      <td>0</td>\n",
              "      <td>6</td>\n",
              "      <td>2019-01-07</td>\n",
              "      <td>2019</td>\n",
              "      <td>1</td>\n",
              "      <td>7</td>\n",
              "      <td>101</td>\n",
              "      <td>42</td>\n",
              "      <td>9</td>\n",
              "      <td>2</td>\n",
              "      <td>2019-04-06</td>\n",
              "      <td>2019</td>\n",
              "      <td>4</td>\n",
              "      <td>6</td>\n",
              "      <td>89</td>\n",
              "      <td>0.4158</td>\n",
              "      <td>0.0198</td>\n",
              "      <td>0</td>\n",
              "      <td>1</td>\n",
              "      <td>0</td>\n",
              "      <td>0</td>\n",
              "      <td>0</td>\n",
              "      <td>0</td>\n",
              "      <td>0</td>\n",
              "      <td>1</td>\n",
              "      <td>0</td>\n",
              "      <td>1</td>\n",
              "      <td>0</td>\n",
              "      <td>0</td>\n",
              "      <td>0</td>\n",
              "      <td>0</td>\n",
              "      <td>1</td>\n",
              "      <td>0</td>\n",
              "      <td>0</td>\n",
              "      <td>0</td>\n",
              "      <td>0</td>\n",
              "      <td>1</td>\n",
              "      <td>0</td>\n",
              "      <td>0</td>\n",
              "      <td>0</td>\n",
              "      <td>1</td>\n",
              "      <td>0</td>\n",
              "      <td>0</td>\n",
              "      <td>0</td>\n",
              "      <td>0</td>\n",
              "      <td>0</td>\n",
              "      <td>1</td>\n",
              "      <td>0</td>\n",
              "    </tr>\n",
              "    <tr>\n",
              "      <th>1</th>\n",
              "      <td>33</td>\n",
              "      <td>1</td>\n",
              "      <td>2</td>\n",
              "      <td>0</td>\n",
              "      <td>1</td>\n",
              "      <td>1</td>\n",
              "      <td>0</td>\n",
              "      <td>0</td>\n",
              "      <td>0</td>\n",
              "      <td>0</td>\n",
              "      <td>3</td>\n",
              "      <td>2019-01-07</td>\n",
              "      <td>2019</td>\n",
              "      <td>1</td>\n",
              "      <td>7</td>\n",
              "      <td>85</td>\n",
              "      <td>13</td>\n",
              "      <td>6</td>\n",
              "      <td>4</td>\n",
              "      <td>2019-03-28</td>\n",
              "      <td>2019</td>\n",
              "      <td>3</td>\n",
              "      <td>28</td>\n",
              "      <td>80</td>\n",
              "      <td>0.1529</td>\n",
              "      <td>0.0471</td>\n",
              "      <td>0</td>\n",
              "      <td>1</td>\n",
              "      <td>0</td>\n",
              "      <td>0</td>\n",
              "      <td>0</td>\n",
              "      <td>0</td>\n",
              "      <td>0</td>\n",
              "      <td>1</td>\n",
              "      <td>0</td>\n",
              "      <td>1</td>\n",
              "      <td>0</td>\n",
              "      <td>0</td>\n",
              "      <td>0</td>\n",
              "      <td>0</td>\n",
              "      <td>1</td>\n",
              "      <td>0</td>\n",
              "      <td>0</td>\n",
              "      <td>0</td>\n",
              "      <td>0</td>\n",
              "      <td>0</td>\n",
              "      <td>1</td>\n",
              "      <td>0</td>\n",
              "      <td>0</td>\n",
              "      <td>1</td>\n",
              "      <td>0</td>\n",
              "      <td>0</td>\n",
              "      <td>0</td>\n",
              "      <td>0</td>\n",
              "      <td>0</td>\n",
              "      <td>0</td>\n",
              "      <td>1</td>\n",
              "    </tr>\n",
              "    <tr>\n",
              "      <th>2</th>\n",
              "      <td>27</td>\n",
              "      <td>1</td>\n",
              "      <td>3</td>\n",
              "      <td>1</td>\n",
              "      <td>0</td>\n",
              "      <td>0</td>\n",
              "      <td>0</td>\n",
              "      <td>0</td>\n",
              "      <td>0</td>\n",
              "      <td>0</td>\n",
              "      <td>13</td>\n",
              "      <td>2019-01-07</td>\n",
              "      <td>2019</td>\n",
              "      <td>1</td>\n",
              "      <td>7</td>\n",
              "      <td>150</td>\n",
              "      <td>29</td>\n",
              "      <td>5</td>\n",
              "      <td>2</td>\n",
              "      <td>2019-04-14</td>\n",
              "      <td>2019</td>\n",
              "      <td>4</td>\n",
              "      <td>14</td>\n",
              "      <td>97</td>\n",
              "      <td>0.1933</td>\n",
              "      <td>0.0133</td>\n",
              "      <td>0</td>\n",
              "      <td>0</td>\n",
              "      <td>0</td>\n",
              "      <td>0</td>\n",
              "      <td>1</td>\n",
              "      <td>0</td>\n",
              "      <td>0</td>\n",
              "      <td>0</td>\n",
              "      <td>1</td>\n",
              "      <td>1</td>\n",
              "      <td>0</td>\n",
              "      <td>0</td>\n",
              "      <td>0</td>\n",
              "      <td>0</td>\n",
              "      <td>1</td>\n",
              "      <td>0</td>\n",
              "      <td>0</td>\n",
              "      <td>0</td>\n",
              "      <td>0</td>\n",
              "      <td>0</td>\n",
              "      <td>1</td>\n",
              "      <td>0</td>\n",
              "      <td>0</td>\n",
              "      <td>1</td>\n",
              "      <td>0</td>\n",
              "      <td>0</td>\n",
              "      <td>0</td>\n",
              "      <td>0</td>\n",
              "      <td>0</td>\n",
              "      <td>1</td>\n",
              "      <td>0</td>\n",
              "    </tr>\n",
              "    <tr>\n",
              "      <th>3</th>\n",
              "      <td>27</td>\n",
              "      <td>1</td>\n",
              "      <td>2</td>\n",
              "      <td>0</td>\n",
              "      <td>0</td>\n",
              "      <td>0</td>\n",
              "      <td>0</td>\n",
              "      <td>0</td>\n",
              "      <td>0</td>\n",
              "      <td>0</td>\n",
              "      <td>9</td>\n",
              "      <td>2019-01-07</td>\n",
              "      <td>2019</td>\n",
              "      <td>1</td>\n",
              "      <td>7</td>\n",
              "      <td>66</td>\n",
              "      <td>16</td>\n",
              "      <td>4</td>\n",
              "      <td>1</td>\n",
              "      <td>2019-05-13</td>\n",
              "      <td>2019</td>\n",
              "      <td>5</td>\n",
              "      <td>13</td>\n",
              "      <td>126</td>\n",
              "      <td>0.2424</td>\n",
              "      <td>0.0152</td>\n",
              "      <td>0</td>\n",
              "      <td>0</td>\n",
              "      <td>1</td>\n",
              "      <td>0</td>\n",
              "      <td>0</td>\n",
              "      <td>0</td>\n",
              "      <td>0</td>\n",
              "      <td>1</td>\n",
              "      <td>0</td>\n",
              "      <td>1</td>\n",
              "      <td>0</td>\n",
              "      <td>0</td>\n",
              "      <td>0</td>\n",
              "      <td>1</td>\n",
              "      <td>0</td>\n",
              "      <td>0</td>\n",
              "      <td>0</td>\n",
              "      <td>0</td>\n",
              "      <td>0</td>\n",
              "      <td>0</td>\n",
              "      <td>1</td>\n",
              "      <td>0</td>\n",
              "      <td>0</td>\n",
              "      <td>0</td>\n",
              "      <td>0</td>\n",
              "      <td>1</td>\n",
              "      <td>0</td>\n",
              "      <td>0</td>\n",
              "      <td>0</td>\n",
              "      <td>1</td>\n",
              "      <td>0</td>\n",
              "    </tr>\n",
              "    <tr>\n",
              "      <th>4</th>\n",
              "      <td>31</td>\n",
              "      <td>1</td>\n",
              "      <td>3</td>\n",
              "      <td>1</td>\n",
              "      <td>1</td>\n",
              "      <td>0</td>\n",
              "      <td>0</td>\n",
              "      <td>0</td>\n",
              "      <td>0</td>\n",
              "      <td>0</td>\n",
              "      <td>3</td>\n",
              "      <td>2019-01-07</td>\n",
              "      <td>2019</td>\n",
              "      <td>1</td>\n",
              "      <td>7</td>\n",
              "      <td>73</td>\n",
              "      <td>27</td>\n",
              "      <td>8</td>\n",
              "      <td>3</td>\n",
              "      <td>2019-03-01</td>\n",
              "      <td>2019</td>\n",
              "      <td>3</td>\n",
              "      <td>1</td>\n",
              "      <td>53</td>\n",
              "      <td>0.3699</td>\n",
              "      <td>0.0411</td>\n",
              "      <td>0</td>\n",
              "      <td>1</td>\n",
              "      <td>0</td>\n",
              "      <td>0</td>\n",
              "      <td>0</td>\n",
              "      <td>0</td>\n",
              "      <td>0</td>\n",
              "      <td>0</td>\n",
              "      <td>1</td>\n",
              "      <td>1</td>\n",
              "      <td>0</td>\n",
              "      <td>0</td>\n",
              "      <td>0</td>\n",
              "      <td>0</td>\n",
              "      <td>1</td>\n",
              "      <td>0</td>\n",
              "      <td>0</td>\n",
              "      <td>0</td>\n",
              "      <td>0</td>\n",
              "      <td>0</td>\n",
              "      <td>1</td>\n",
              "      <td>0</td>\n",
              "      <td>0</td>\n",
              "      <td>1</td>\n",
              "      <td>0</td>\n",
              "      <td>0</td>\n",
              "      <td>0</td>\n",
              "      <td>0</td>\n",
              "      <td>1</td>\n",
              "      <td>0</td>\n",
              "      <td>0</td>\n",
              "    </tr>\n",
              "  </tbody>\n",
              "</table>\n",
              "</div>"
            ],
            "text/plain": [
              "   年齢  性別  正社員歴  ポートフォリオ有無  マネジメント経験  難関大卒  PF高クオリティ  有名企業在籍経験  中退歴  短期離職経験  \\\n",
              "0  28   1     2          1         0     0         0         0    0       0   \n",
              "1  33   1     2          0         1     1         0         0    0       0   \n",
              "2  27   1     3          1         0     0         0         0    0       0   \n",
              "3  27   1     2          0         0     0         0         0    0       0   \n",
              "4  31   1     3          1         1     0         0         0    0       0   \n",
              "\n",
              "   面談実施回数       就活開始日  就活開始日（年）  就活開始日（月）  就活開始日（日）  応募数  １次面接実施数  ２次面接以降実施数  \\\n",
              "0       6  2019-01-07      2019         1         7  101       42          9   \n",
              "1       3  2019-01-07      2019         1         7   85       13          6   \n",
              "2      13  2019-01-07      2019         1         7  150       29          5   \n",
              "3       9  2019-01-07      2019         1         7   66       16          4   \n",
              "4       3  2019-01-07      2019         1         7   73       27          8   \n",
              "\n",
              "   内定数       内定承諾日  内定承諾日（年）  内定承諾日（月）  内定承諾日（日）  就職活動日数  書類選考通過率  内定獲得率  \\\n",
              "0    2  2019-04-06      2019         4         6      89   0.4158 0.0198   \n",
              "1    4  2019-03-28      2019         3        28      80   0.1529 0.0471   \n",
              "2    2  2019-04-14      2019         4        14      97   0.1933 0.0133   \n",
              "3    1  2019-05-13      2019         5        13     126   0.2424 0.0152   \n",
              "4    3  2019-03-01      2019         3         1      53   0.3699 0.0411   \n",
              "\n",
              "   最終学歴_中卒  最終学歴_大卒  最終学歴_短大卒・専門卒  最終学歴_院卒  最終学歴_高卒  最終学歴_高専卒  就業状況_バイト・派遣  \\\n",
              "0        0        1             0        0        0         0            0   \n",
              "1        0        1             0        0        0         0            0   \n",
              "2        0        0             0        0        1         0            0   \n",
              "3        0        0             1        0        0         0            0   \n",
              "4        0        1             0        0        0         0            0   \n",
              "\n",
              "   就業状況_在職中  就業状況_離職中  既往歴_無  既往歴_精神  既往歴_身体  希望年収_400万円以上  希望年収_〜300万円  \\\n",
              "0         1         0      1       0       0             0            0   \n",
              "1         1         0      1       0       0             0            0   \n",
              "2         0         1      1       0       0             0            0   \n",
              "3         1         0      1       0       0             0            1   \n",
              "4         0         1      1       0       0             0            0   \n",
              "\n",
              "   希望年収_〜350万円  希望年収_〜400万円  希望年収_希望なし  希望職種_ITコンサル・営業  希望職種_インフラエンジニア  \\\n",
              "0            1            0          0               0               0   \n",
              "1            1            0          0               0               0   \n",
              "2            1            0          0               0               0   \n",
              "3            0            0          0               0               0   \n",
              "4            1            0          0               0               0   \n",
              "\n",
              "   希望職種_バックエンドエンジニア  希望職種_フロントエンドエンジニア  希望職種_希望なし・その他  希望業種_SES  希望業種_受託開発企業  \\\n",
              "0                 1                  0              0         0            1   \n",
              "1                 0                  1              0         0            1   \n",
              "2                 0                  1              0         0            1   \n",
              "3                 0                  1              0         0            0   \n",
              "4                 0                  1              0         0            1   \n",
              "\n",
              "   希望業種_希望なし・その他  希望業種_自社開発企業  希望エリア_その他地方都市  希望エリア_全国可  希望エリア_大阪のみ  \\\n",
              "0              0            0              0          0           0   \n",
              "1              0            0              0          0           0   \n",
              "2              0            0              0          0           0   \n",
              "3              0            1              0          0           0   \n",
              "4              0            0              0          0           1   \n",
              "\n",
              "   希望エリア_東京のみ  希望エリア_東京・大阪  \n",
              "0           1            0  \n",
              "1           0            1  \n",
              "2           1            0  \n",
              "3           1            0  \n",
              "4           0            0  "
            ]
          },
          "metadata": {
            "tags": []
          }
        }
      ]
    },
    {
      "cell_type": "markdown",
      "metadata": {
        "id": "niGTKTegXThr"
      },
      "source": [
        "# **4.データ分割**"
      ]
    },
    {
      "cell_type": "code",
      "metadata": {
        "colab": {
          "base_uri": "https://localhost:8080/"
        },
        "id": "XUWu7oZSTisz",
        "outputId": "4f8f2bd2-fa1b-4309-867d-64fe12f3e665"
      },
      "source": [
        "print(df.columns)"
      ],
      "execution_count": 9,
      "outputs": [
        {
          "output_type": "stream",
          "text": [
            "Index(['年齢', '性別', '正社員歴', 'ポートフォリオ有無', 'マネジメント経験', '難関大卒', 'PF高クオリティ',\n",
            "       '有名企業在籍経験', '中退歴', '短期離職経験', '面談実施回数', '就活開始日', '就活開始日（年）', '就活開始日（月）',\n",
            "       '就活開始日（日）', '応募数', '１次面接実施数', '２次面接以降実施数', '内定数', '内定承諾日', '内定承諾日（年）',\n",
            "       '内定承諾日（月）', '内定承諾日（日）', '就職活動日数', '書類選考通過率', '内定獲得率', '最終学歴_中卒',\n",
            "       '最終学歴_大卒', '最終学歴_短大卒・専門卒', '最終学歴_院卒', '最終学歴_高卒', '最終学歴_高専卒',\n",
            "       '就業状況_バイト・派遣', '就業状況_在職中', '就業状況_離職中', '既往歴_無', '既往歴_精神', '既往歴_身体',\n",
            "       '希望年収_400万円以上', '希望年収_〜300万円', '希望年収_〜350万円', '希望年収_〜400万円',\n",
            "       '希望年収_希望なし', '希望職種_ITコンサル・営業', '希望職種_インフラエンジニア', '希望職種_バックエンドエンジニア',\n",
            "       '希望職種_フロントエンドエンジニア', '希望職種_希望なし・その他', '希望業種_SES', '希望業種_受託開発企業',\n",
            "       '希望業種_希望なし・その他', '希望業種_自社開発企業', '希望エリア_その他地方都市', '希望エリア_全国可',\n",
            "       '希望エリア_大阪のみ', '希望エリア_東京のみ', '希望エリア_東京・大阪'],\n",
            "      dtype='object')\n"
          ],
          "name": "stdout"
        }
      ]
    },
    {
      "cell_type": "markdown",
      "metadata": {
        "id": "pV3XgvyeTzx-"
      },
      "source": [
        "## （１）入力データ・正解データ分割"
      ]
    },
    {
      "cell_type": "code",
      "metadata": {
        "colab": {
          "base_uri": "https://localhost:8080/"
        },
        "id": "h8JqdIKyT4rF",
        "outputId": "a1d22fff-af35-492e-bc84-e88b45625f6b"
      },
      "source": [
        "df['就活開始日'] = pd.to_datetime(df['就活開始日'])\n",
        "df['内定承諾日'] = pd.to_datetime(df['内定承諾日'])\n",
        "\n",
        "# 入力データ\n",
        "insert = df.drop([\n",
        "        '面談実施回数', '就活開始日', '就活開始日（年）', '就活開始日（月）',\n",
        "       '就活開始日（日）', '１次面接実施数', '２次面接以降実施数', '内定数', '内定承諾日', '内定承諾日（年）',\n",
        "       '内定承諾日（月）', '内定承諾日（日）', '就職活動日数', '書類選考通過率', '内定獲得率',\n",
        "       '希望年収_400万円以上', '希望年収_〜300万円', '希望年収_〜350万円', '希望年収_〜400万円',\n",
        "       '希望年収_希望なし', '希望職種_ITコンサル・営業', '希望職種_インフラエンジニア', '希望職種_バックエンドエンジニア',\n",
        "       '希望職種_フロントエンドエンジニア', '希望職種_希望なし・その他', '希望業種_SES', '希望業種_受託開発企業',\n",
        "       '希望業種_希望なし・その他', '希望業種_自社開発企業', '希望エリア_その他地方都市', '希望エリア_全国可',\n",
        "       '希望エリア_大阪のみ', '希望エリア_東京のみ', '希望エリア_東京・大阪' \n",
        "\n",
        "      ], axis=1)\n",
        "print(insert.columns)\n",
        "\n",
        "# 正解データ \n",
        "# 正解データA書類選考通過率\n",
        "answerA = df['書類選考通過率'].values\n",
        "\n",
        "# 正解データB内定獲得率\n",
        "answerB = df['内定獲得率'].values"
      ],
      "execution_count": 10,
      "outputs": [
        {
          "output_type": "stream",
          "text": [
            "Index(['年齢', '性別', '正社員歴', 'ポートフォリオ有無', 'マネジメント経験', '難関大卒', 'PF高クオリティ',\n",
            "       '有名企業在籍経験', '中退歴', '短期離職経験', '応募数', '最終学歴_中卒', '最終学歴_大卒',\n",
            "       '最終学歴_短大卒・専門卒', '最終学歴_院卒', '最終学歴_高卒', '最終学歴_高専卒', '就業状況_バイト・派遣',\n",
            "       '就業状況_在職中', '就業状況_離職中', '既往歴_無', '既往歴_精神', '既往歴_身体'],\n",
            "      dtype='object')\n"
          ],
          "name": "stdout"
        }
      ]
    },
    {
      "cell_type": "markdown",
      "metadata": {
        "id": "VnqxqYntWAVX"
      },
      "source": [
        "## （２）学習データ・検証データ分割"
      ]
    },
    {
      "cell_type": "code",
      "metadata": {
        "id": "LzZcmbi-WAAX"
      },
      "source": [
        "mday = pd.to_datetime('2020-12-1')\n",
        "train_index = df['就活開始日'] < mday\n",
        "test_index = df['就活開始日'] >= mday\n",
        "\n",
        "# 入力データ\n",
        "i_train = insert[train_index]\n",
        "i_test = insert[test_index]\n",
        "\n",
        "# 正解データA書類選考通過率\n",
        "a_trainA = answerA[train_index]\n",
        "a_testA = answerA[test_index]\n",
        "\n",
        "# 正解データB内定獲得率\n",
        "a_trainB = answerB[train_index]\n",
        "a_testB = answerB[test_index]"
      ],
      "execution_count": 11,
      "outputs": []
    },
    {
      "cell_type": "markdown",
      "metadata": {
        "id": "Pk9iJJHmXTo4"
      },
      "source": [
        "# **5.アルゴリズム選択**"
      ]
    },
    {
      "cell_type": "markdown",
      "metadata": {
        "id": "ohA2etDnXFyE"
      },
      "source": [
        "### （１）候補アルゴリズムリスト化"
      ]
    },
    {
      "cell_type": "code",
      "metadata": {
        "id": "qqyEGWxMW1Dx"
      },
      "source": [
        "# 線形回帰\n",
        "from sklearn.linear_model import LinearRegression\n",
        "algorithm1 = LinearRegression()\n",
        "\n",
        "# リッジ回帰\n",
        "from sklearn.linear_model import Ridge\n",
        "algorithm2 = Ridge()\n",
        "\n",
        "#XGBoost \n",
        "from xgboost import XGBRegressor\n",
        "algorithm3 = XGBRegressor(objective='reg:squarederror')\n",
        "\n",
        "\n",
        "algorithms = [algorithm1, algorithm2, algorithm3]"
      ],
      "execution_count": 12,
      "outputs": []
    },
    {
      "cell_type": "markdown",
      "metadata": {
        "id": "NunzPUmaWKe_"
      },
      "source": [
        "## （２）目的変数ごとの検証"
      ]
    },
    {
      "cell_type": "code",
      "metadata": {
        "colab": {
          "base_uri": "https://localhost:8080/"
        },
        "id": "fiO6P8B2XLtP",
        "outputId": "741eb107-8b9f-4c7b-8784-6914b063f58d"
      },
      "source": [
        "from sklearn.model_selection import KFold\n",
        "kfold = KFold(n_splits=4)\n",
        "\n",
        "from sklearn.model_selection import cross_val_score\n",
        "\n",
        "# 書類選考通過率\n",
        "print('書類選考通過率')\n",
        "print('-------------------')\n",
        "for al in algorithms:\n",
        "  scores = cross_val_score(al, i_train, a_trainA, cv=kfold)\n",
        "  score = scores.mean()\n",
        "  name = al.__class__.__name__\n",
        "\n",
        "  print(f'平均スコア:{score:.4f} 個別スコア：{scores} {name}')\n",
        "\n",
        "print()\n",
        "print('===================')\n",
        "print()\n",
        "\n",
        "# 内定獲得率\n",
        "print('内定獲得率')\n",
        "print('-------------')\n",
        "for al in algorithms:\n",
        "  scores = cross_val_score(al, i_train, a_trainB, cv=kfold)\n",
        "  score = scores.mean()\n",
        "  name = al.__class__.__name__\n",
        "\n",
        "  print(f'平均スコア:{score:.4f} 個別スコア：{scores} {name}')"
      ],
      "execution_count": 13,
      "outputs": [
        {
          "output_type": "stream",
          "text": [
            "書類選考通過率\n",
            "-------------------\n",
            "平均スコア:0.5422 個別スコア：[0.5088 0.5379 0.5491 0.5731] LinearRegression\n",
            "平均スコア:0.5423 個別スコア：[0.5092 0.538  0.5491 0.5728] Ridge\n",
            "平均スコア:0.5940 個別スコア：[0.5323 0.6106 0.5959 0.6372] XGBRegressor\n",
            "\n",
            "===================\n",
            "\n",
            "内定獲得率\n",
            "-------------\n",
            "平均スコア:0.5397 個別スコア：[0.5436 0.5111 0.5036 0.6005] LinearRegression\n",
            "平均スコア:0.5399 個別スコア：[0.5427 0.5116 0.5046 0.6006] Ridge\n",
            "平均スコア:0.6895 個別スコア：[0.7156 0.7123 0.6572 0.6731] XGBRegressor\n"
          ],
          "name": "stdout"
        }
      ]
    },
    {
      "cell_type": "markdown",
      "metadata": {
        "id": "qo6w8xwWXBV7"
      },
      "source": [
        "<u>選択アルゴリズム</u><br>\n",
        "①書類選考通過率・・・xgboost<br>\n",
        "②内定獲得率・・・・・xgboost"
      ]
    },
    {
      "cell_type": "markdown",
      "metadata": {
        "id": "VQNLUOmTXeOa"
      },
      "source": [
        "# **6.学習・予測**"
      ]
    },
    {
      "cell_type": "markdown",
      "metadata": {
        "id": "T2ixbtucaMfP"
      },
      "source": [
        "## （１）目的変数ごとの学習・予測"
      ]
    },
    {
      "cell_type": "code",
      "metadata": {
        "colab": {
          "base_uri": "https://localhost:8080/"
        },
        "id": "Z4-2lLEoaMTz",
        "outputId": "00a6f49b-df03-446b-bc94-4533bc882a9d"
      },
      "source": [
        "# 書類選考通過率\n",
        "algorithmA = XGBRegressor(objective='reg:squarederror')\n",
        "\n",
        "algorithmA.fit(i_train, a_trainA)\n",
        "a2_predA = algorithmA.predict(i_test)\n",
        "\n",
        "print('書類選考通過率')\n",
        "print(a2_predA[:5])\n",
        "print()\n",
        "print('----------------------------')\n",
        "print()\n",
        "\n",
        "# 内定獲得率\n",
        "algorithmB = XGBRegressor(objective='reg:squarederror')\n",
        "\n",
        "algorithmB.fit(i_train, a_trainB)\n",
        "a2_predB = algorithmB.predict(i_test)\n",
        "print('内定獲得率')\n",
        "print(a2_predB[:5])"
      ],
      "execution_count": 14,
      "outputs": [
        {
          "output_type": "stream",
          "text": [
            "書類選考通過率\n",
            "[0.3021 0.3463 0.2169 0.1625 0.2148]\n",
            "\n",
            "----------------------------\n",
            "\n",
            "内定獲得率\n",
            "[0.0197 0.023  0.0098 0.0095 0.0128]\n"
          ],
          "name": "stdout"
        }
      ]
    },
    {
      "cell_type": "markdown",
      "metadata": {
        "id": "DwGPxZn6XeYj"
      },
      "source": [
        "# **7.評価**"
      ]
    },
    {
      "cell_type": "markdown",
      "metadata": {
        "id": "H2ox57YCdla0"
      },
      "source": [
        "## （１）R2値"
      ]
    },
    {
      "cell_type": "code",
      "metadata": {
        "colab": {
          "base_uri": "https://localhost:8080/"
        },
        "id": "jR4he4fMaf_C",
        "outputId": "9ae11eef-b872-45b0-a713-14dea3072bfd"
      },
      "source": [
        "# 書類選考通過率\n",
        "scoreA = algorithmA.score(i_test, a_testA)\n",
        "\n",
        "from sklearn.metrics import r2_score\n",
        "r2_scoreA = r2_score(a_testA, a2_predA)\n",
        "\n",
        "print('書類選考通過率')\n",
        "print(f'score:{scoreA:.4f} r2_score: {r2_scoreA:.4f}')\n",
        "\n",
        "print()\n",
        "print('----------------------------')\n",
        "print()\n",
        "\n",
        "# 内定獲得率\n",
        "scoreB = algorithmB.score(i_test, a_testB)\n",
        "\n",
        "from sklearn.metrics import r2_score\n",
        "r2_scoreB = r2_score(a_testB, a2_predB)\n",
        "print('内定獲得率')\n",
        "print(f'score:{scoreB:.4f} r2_score: {r2_scoreB:.4f}')"
      ],
      "execution_count": 15,
      "outputs": [
        {
          "output_type": "stream",
          "text": [
            "書類選考通過率\n",
            "score:0.6489 r2_score: 0.6489\n",
            "\n",
            "----------------------------\n",
            "\n",
            "内定獲得率\n",
            "score:0.7624 r2_score: 0.7624\n"
          ],
          "name": "stdout"
        }
      ]
    },
    {
      "cell_type": "markdown",
      "metadata": {
        "id": "MuyC1FXZduFl"
      },
      "source": [
        "## （２）散布図比較"
      ]
    },
    {
      "cell_type": "code",
      "metadata": {
        "colab": {
          "base_uri": "https://localhost:8080/",
          "height": 1000
        },
        "id": "kbgA8pKpdzcr",
        "outputId": "cf6d448e-367e-4ae5-bf8e-8507eadb4a81"
      },
      "source": [
        "# 書類選考通過率\n",
        "plt.figure(figsize=(10,10))\n",
        "a2_maxA = a_testA.max()\n",
        "plt.plot((0, a2_maxA), (0, a2_maxA), c='k')\n",
        "plt.scatter(a_testA, a2_predA, c='b')\n",
        "plt.title(f'正解データと予測結果の散布図（書類選考通過率） R2={scoreA:.4f}')\n",
        "plt.grid()\n",
        "plt.show()\n",
        "\n",
        "# 内定獲得率\n",
        "plt.figure(figsize=(10,10))\n",
        "a2_maxB = a_testB.max()\n",
        "plt.plot((0, a2_maxB), (0, a2_maxB), c='k')\n",
        "plt.scatter(a_testB, a2_predB, c='b')\n",
        "plt.title(f'正解データと予測結果の散布図（内定獲得率） R2={scoreB:.4f}')\n",
        "plt.grid()\n",
        "plt.show()"
      ],
      "execution_count": 16,
      "outputs": [
        {
          "output_type": "display_data",
          "data": {
            "image/png": "[encoded data removed]",
            "text/plain": [
              "<Figure size 720x720 with 1 Axes>"
            ]
          },
          "metadata": {
            "tags": [],
            "needs_background": "light"
          }
        },
        {
          "output_type": "display_data",
          "data": {
            "image/png": "[encoded data removed]",
            "text/plain": [
              "<Figure size 720x720 with 1 Axes>"
            ]
          },
          "metadata": {
            "tags": [],
            "needs_background": "light"
          }
        }
      ]
    },
    {
      "cell_type": "markdown",
      "metadata": {
        "id": "Ua1npwHfekjP"
      },
      "source": [
        "## （３）重要度分析"
      ]
    },
    {
      "cell_type": "code",
      "metadata": {
        "colab": {
          "base_uri": "https://localhost:8080/",
          "height": 1000
        },
        "id": "g2wUjEKdejQ2",
        "outputId": "f130bc34-c7a8-4055-dc42-96aab9ad55ed"
      },
      "source": [
        "import xgboost as xgb\n",
        "\n",
        "# 書類選考通過率\n",
        "fig, ax = plt.subplots(figsize=(20,40))\n",
        "xgb.plot_importance(algorithmA, ax=ax, height=0.8, importance_type='gain',\n",
        "                    show_values=False, title='重要度分析（書類選考通過率）')\n",
        "\n",
        "\n",
        "# 内定獲得率\n",
        "fig, ax = plt.subplots(figsize=(20,40))\n",
        "xgb.plot_importance(algorithmB, ax=ax, height=0.8, importance_type='gain',\n",
        "                    show_values=False, title='重要度分析（内定獲得率）')"
      ],
      "execution_count": 17,
      "outputs": [
        {
          "output_type": "execute_result",
          "data": {
            "text/plain": [
              "<matplotlib.axes._subplots.AxesSubplot at 0x7fe8066983d0>"
            ]
          },
          "metadata": {
            "tags": []
          },
          "execution_count": 17
        },
        {
          "output_type": "display_data",
          "data": {
            "image/png": "[encoded data removed]",
            "text/plain": [
              "<Figure size 1440x2880 with 1 Axes>"
            ]
          },
          "metadata": {
            "tags": [],
            "needs_background": "light"
          }
        },
        {
          "output_type": "display_data",
          "data": {
            "image/png": "[encoded data removed]",
            "text/plain": [
              "<Figure size 1440x2880 with 1 Axes>"
            ]
          },
          "metadata": {
            "tags": [],
            "needs_background": "light"
          }
        }
      ]
    },
    {
      "cell_type": "markdown",
      "metadata": {
        "id": "Cs28-KuvXecK"
      },
      "source": [
        "# **8.チュ−ニング**"
      ]
    },
    {
      "cell_type": "markdown",
      "metadata": {
        "id": "sipjVqJ1ygVn"
      },
      "source": [
        "## 【ハイパーパラメーター最適化】"
      ]
    },
    {
      "cell_type": "markdown",
      "metadata": {
        "id": "vSBAzc9OymNn"
      },
      "source": [
        "## （１）デフォルト値確認"
      ]
    },
    {
      "cell_type": "code",
      "metadata": {
        "colab": {
          "base_uri": "https://localhost:8080/"
        },
        "id": "8b8b9kQgyEH_",
        "outputId": "b96cc924-6dec-4ca7-fbfe-c933fe565bb7"
      },
      "source": [
        "algorithm = XGBRegressor()\n",
        "print(algorithm)"
      ],
      "execution_count": 18,
      "outputs": [
        {
          "output_type": "stream",
          "text": [
            "XGBRegressor(base_score=0.5, booster='gbtree', colsample_bylevel=1,\n",
            "             colsample_bynode=1, colsample_bytree=1, gamma=0,\n",
            "             importance_type='gain', learning_rate=0.1, max_delta_step=0,\n",
            "             max_depth=3, min_child_weight=1, missing=None, n_estimators=100,\n",
            "             n_jobs=1, nthread=None, objective='reg:linear', random_state=0,\n",
            "             reg_alpha=0, reg_lambda=1, scale_pos_weight=1, seed=None,\n",
            "             silent=None, subsample=1, verbosity=1)\n"
          ],
          "name": "stdout"
        }
      ]
    },
    {
      "cell_type": "markdown",
      "metadata": {
        "id": "tbjg498F0MTm"
      },
      "source": [
        "## （２）書類選考通過率"
      ]
    },
    {
      "cell_type": "markdown",
      "metadata": {
        "id": "DiXMmM68iJXB"
      },
      "source": [
        "### ①チューニング"
      ]
    },
    {
      "cell_type": "markdown",
      "metadata": {
        "id": "CEaVPFrRzf6z"
      },
      "source": [
        "#### [eta]"
      ]
    },
    {
      "cell_type": "code",
      "metadata": {
        "colab": {
          "base_uri": "https://localhost:8080/"
        },
        "id": "Xe9gDdu3yEOO",
        "outputId": "116b149f-680a-4572-932e-5a091dac259f"
      },
      "source": [
        "# eta\n",
        "etas = [0.0001, 0.001, 0.01, 0.1, 0.3, 0.5, 0.7, 0.9, 1.0]\n",
        "\n",
        "print('eta')\n",
        "for eta in etas:\n",
        "  algorithm = XGBRegressor(objective='reg:squarederror')\n",
        "  algorithm.fit(i_train, a_trainA)\n",
        "  score = algorithm.score(i_test, a_testA)\n",
        "  print(f'score: {score:.4f}  eta: {eta}')"
      ],
      "execution_count": 19,
      "outputs": [
        {
          "output_type": "stream",
          "text": [
            "eta\n",
            "score: 0.6489  eta: 0.0001\n",
            "score: 0.6489  eta: 0.001\n",
            "score: 0.6489  eta: 0.01\n",
            "score: 0.6489  eta: 0.1\n",
            "score: 0.6489  eta: 0.3\n",
            "score: 0.6489  eta: 0.5\n",
            "score: 0.6489  eta: 0.7\n",
            "score: 0.6489  eta: 0.9\n",
            "score: 0.6489  eta: 1.0\n"
          ],
          "name": "stdout"
        }
      ]
    },
    {
      "cell_type": "markdown",
      "metadata": {
        "id": "qKWzV4gMgNlI"
      },
      "source": [
        "eta:0.3"
      ]
    },
    {
      "cell_type": "markdown",
      "metadata": {
        "id": "sfSK7cs_zlbG"
      },
      "source": [
        "#### [max_depth]"
      ]
    },
    {
      "cell_type": "code",
      "metadata": {
        "colab": {
          "base_uri": "https://localhost:8080/"
        },
        "id": "d54xwdEL1K0o",
        "outputId": "8a67c68c-4e12-4228-d4fe-aa828080d026"
      },
      "source": [
        "maxDepthes = [1,2,3,4,5,6,7,8,9,10]\n",
        "\n",
        "print('man_depth')\n",
        "for d in maxDepthes:\n",
        "  algorithm = XGBRegressor(max_depth=d, objective='reg:squarederror')\n",
        "  algorithm.fit(i_train, a_trainA)\n",
        "  score = algorithm.score(i_test, a_testA)\n",
        "  print(f'score: {score:.4f}  max_depth: {d}')"
      ],
      "execution_count": 20,
      "outputs": [
        {
          "output_type": "stream",
          "text": [
            "man_depth\n",
            "score: 0.5804  max_depth: 1\n",
            "score: 0.6247  max_depth: 2\n",
            "score: 0.6489  max_depth: 3\n",
            "score: 0.6312  max_depth: 4\n",
            "score: 0.6283  max_depth: 5\n",
            "score: 0.6276  max_depth: 6\n",
            "score: 0.6295  max_depth: 7\n",
            "score: 0.6075  max_depth: 8\n",
            "score: 0.6290  max_depth: 9\n",
            "score: 0.6296  max_depth: 10\n"
          ],
          "name": "stdout"
        }
      ]
    },
    {
      "cell_type": "markdown",
      "metadata": {
        "id": "UKXzvqL-gb3b"
      },
      "source": [
        "max_depth:3"
      ]
    },
    {
      "cell_type": "markdown",
      "metadata": {
        "id": "ncjwntmJzlWU"
      },
      "source": [
        "#### [min_child_weight]"
      ]
    },
    {
      "cell_type": "code",
      "metadata": {
        "colab": {
          "base_uri": "https://localhost:8080/"
        },
        "id": "IuZQId5W1o4y",
        "outputId": "cee6bc26-39b3-4af5-e0f8-423f567a5ed2"
      },
      "source": [
        "minChildWeights=[1,2,3,4,5,6,7,8,9,10,15,20,30,40]\n",
        "\n",
        "for w in minChildWeights:\n",
        "  algorithm = XGBRegressor(min_child_weight=w, objective='reg:squarederror')\n",
        "  algorithm.fit(i_train, a_trainA)\n",
        "  score = algorithm.score(i_test, a_testA)\n",
        "  print(f'score: {score:.4f}  min_child_weight: {w}')"
      ],
      "execution_count": 21,
      "outputs": [
        {
          "output_type": "stream",
          "text": [
            "score: 0.6489  min_child_weight: 1\n",
            "score: 0.6487  min_child_weight: 2\n",
            "score: 0.6498  min_child_weight: 3\n",
            "score: 0.6523  min_child_weight: 4\n",
            "score: 0.6447  min_child_weight: 5\n",
            "score: 0.6381  min_child_weight: 6\n",
            "score: 0.6418  min_child_weight: 7\n",
            "score: 0.6394  min_child_weight: 8\n",
            "score: 0.6434  min_child_weight: 9\n",
            "score: 0.6368  min_child_weight: 10\n",
            "score: 0.6351  min_child_weight: 15\n",
            "score: 0.6366  min_child_weight: 20\n",
            "score: 0.6357  min_child_weight: 30\n",
            "score: 0.6353  min_child_weight: 40\n"
          ],
          "name": "stdout"
        }
      ]
    },
    {
      "cell_type": "markdown",
      "metadata": {
        "id": "RAMsnHtMghKs"
      },
      "source": [
        "min_child_weight:4"
      ]
    },
    {
      "cell_type": "markdown",
      "metadata": {
        "id": "QpTDStlQzlNm"
      },
      "source": [
        "#### [subsample]"
      ]
    },
    {
      "cell_type": "code",
      "metadata": {
        "colab": {
          "base_uri": "https://localhost:8080/"
        },
        "id": "xPFZWHwi2Osy",
        "outputId": "6e71eb62-cb70-4449-f77d-5aaa0f7c52f6"
      },
      "source": [
        "subSamples=[0.1,0.3,0.5,0.7,0.9,1]\n",
        "\n",
        "for s in subSamples:\n",
        "  algorithm = XGBRegressor(subsample=s, objective='reg:squarederror', min_child_weight=4)\n",
        "  algorithm.fit(i_train, a_trainA)\n",
        "  score = algorithm.score(i_test, a_testA)\n",
        "  print(f'score: {score:.4f}  subsample: {s}')"
      ],
      "execution_count": 22,
      "outputs": [
        {
          "output_type": "stream",
          "text": [
            "score: 0.6433  subsample: 0.1\n",
            "score: 0.6494  subsample: 0.3\n",
            "score: 0.6528  subsample: 0.5\n",
            "score: 0.6533  subsample: 0.7\n",
            "score: 0.6417  subsample: 0.9\n",
            "score: 0.6523  subsample: 1\n"
          ],
          "name": "stdout"
        }
      ]
    },
    {
      "cell_type": "markdown",
      "metadata": {
        "id": "Woba-qMsgsdy"
      },
      "source": [
        "subsample:0.7"
      ]
    },
    {
      "cell_type": "markdown",
      "metadata": {
        "id": "5IRRhLfUzk9d"
      },
      "source": [
        "#### [colsample_bytree]"
      ]
    },
    {
      "cell_type": "code",
      "metadata": {
        "colab": {
          "base_uri": "https://localhost:8080/"
        },
        "id": "Y4UdlEGo2nTX",
        "outputId": "68eb7869-2274-46a3-e2ee-e66910d9c213"
      },
      "source": [
        "colsampleBytrees=[0.1,0.3,0.5,0.7,0.9,1]\n",
        "\n",
        "for cs in colsampleBytrees:\n",
        "  algorithm = XGBRegressor(colsample_bytree=cs, objective='reg:squarederror', min_child_weight=4, subsample=0.7)\n",
        "  algorithm.fit(i_train, a_trainA)\n",
        "  score = algorithm.score(i_test, a_testA)\n",
        "  print(f'score: {score:.4f}  colsample_bytree: {cs}')"
      ],
      "execution_count": 23,
      "outputs": [
        {
          "output_type": "stream",
          "text": [
            "score: 0.5655  colsample_bytree: 0.1\n",
            "score: 0.6349  colsample_bytree: 0.3\n",
            "score: 0.6397  colsample_bytree: 0.5\n",
            "score: 0.6484  colsample_bytree: 0.7\n",
            "score: 0.6425  colsample_bytree: 0.9\n",
            "score: 0.6533  colsample_bytree: 1\n"
          ],
          "name": "stdout"
        }
      ]
    },
    {
      "cell_type": "markdown",
      "metadata": {
        "id": "CMuEEMePg151"
      },
      "source": [
        "colsample_bytree:1"
      ]
    },
    {
      "cell_type": "markdown",
      "metadata": {
        "id": "lYfembTQ4NZh"
      },
      "source": [
        "### ②再検証"
      ]
    },
    {
      "cell_type": "markdown",
      "metadata": {
        "id": "IeJZLD1Z4VM5"
      },
      "source": [
        "#### [学習・予測]"
      ]
    },
    {
      "cell_type": "code",
      "metadata": {
        "colab": {
          "base_uri": "https://localhost:8080/"
        },
        "id": "poI8o4qc4aev",
        "outputId": "da1b3c38-d7f4-4088-c44c-eb67ced1a9f9"
      },
      "source": [
        "algorithmA = XGBRegressor(objective='reg:squarederror', min_child_weight=4, subsample=0.7)\n",
        "\n",
        "algorithmA.fit(i_train, a_trainA)\n",
        "a2_predA = algorithmA.predict(i_test)\n",
        "\n",
        "print(a2_predA[:5])"
      ],
      "execution_count": 24,
      "outputs": [
        {
          "output_type": "stream",
          "text": [
            "[0.3095 0.3467 0.2151 0.1651 0.22  ]\n"
          ],
          "name": "stdout"
        }
      ]
    },
    {
      "cell_type": "markdown",
      "metadata": {
        "id": "2-JdmXZj4jeg"
      },
      "source": [
        "#### [評価]"
      ]
    },
    {
      "cell_type": "code",
      "metadata": {
        "colab": {
          "base_uri": "https://localhost:8080/",
          "height": 1000
        },
        "id": "WMJpLgUd4lsg",
        "outputId": "f03e5992-17c4-4b06-f0bd-37dbfdacc93c"
      },
      "source": [
        "print('再検証（書類選考通過率）')\n",
        "print('-------------------------------------------------')\n",
        "print()\n",
        "\n",
        "# R2値\n",
        "scoreA = algorithmA.score(i_test, a_testA)\n",
        "\n",
        "from sklearn.metrics import r2_score\n",
        "r2_scoreA = r2_score(a_testA, a2_predA)\n",
        "\n",
        "print('R2値')\n",
        "print(f'score:{scoreA:.4f} r2_score: {r2_scoreA:.4f}')\n",
        "print('------------------------------------------------------')\n",
        "\n",
        "# 散布図\n",
        "plt.figure(figsize=(10,10))\n",
        "a2_maxA = a_testA.max()\n",
        "plt.plot((0, a2_maxA), (0, a2_maxA), c='k')\n",
        "plt.scatter(a_testA, a2_predA, c='b')\n",
        "plt.title(f'正解データと予測結果の散布図（書類選考通過率） R2={scoreA:.4f}')\n",
        "plt.grid()\n",
        "plt.show()\n",
        "print('------------------------------------------------------')\n",
        "\n",
        "# 重要度分析\n",
        "import xgboost as xgb\n",
        "fig, ax = plt.subplots(figsize=(20,40))\n",
        "xgb.plot_importance(algorithmA, ax=ax, height=0.8, importance_type='gain',\n",
        "                    show_values=False, title='重要度分析')"
      ],
      "execution_count": 25,
      "outputs": [
        {
          "output_type": "stream",
          "text": [
            "再検証（書類選考通過率）\n",
            "-------------------------------------------------\n",
            "\n",
            "R2値\n",
            "score:0.6533 r2_score: 0.6533\n",
            "------------------------------------------------------\n"
          ],
          "name": "stdout"
        },
        {
          "output_type": "display_data",
          "data": {
            "image/png": "[encoded data removed]",
            "text/plain": [
              "<Figure size 720x720 with 1 Axes>"
            ]
          },
          "metadata": {
            "tags": [],
            "needs_background": "light"
          }
        },
        {
          "output_type": "stream",
          "text": [
            "------------------------------------------------------\n"
          ],
          "name": "stdout"
        },
        {
          "output_type": "execute_result",
          "data": {
            "text/plain": [
              "<matplotlib.axes._subplots.AxesSubplot at 0x7fe806662d10>"
            ]
          },
          "metadata": {
            "tags": []
          },
          "execution_count": 25
        },
        {
          "output_type": "display_data",
          "data": {
            "image/png": "[encoded data removed]",
            "text/plain": [
              "<Figure size 1440x2880 with 1 Axes>"
            ]
          },
          "metadata": {
            "tags": [],
            "needs_background": "light"
          }
        }
      ]
    },
    {
      "cell_type": "markdown",
      "metadata": {
        "id": "XY6M4nnxjeYn"
      },
      "source": [
        "## （３）内定獲得率"
      ]
    },
    {
      "cell_type": "markdown",
      "metadata": {
        "id": "RFP6JDCU5aI4"
      },
      "source": [
        "### ①チューニング"
      ]
    },
    {
      "cell_type": "markdown",
      "metadata": {
        "id": "4OMu3UQT5q0P"
      },
      "source": [
        "#### [eta]"
      ]
    },
    {
      "cell_type": "code",
      "metadata": {
        "colab": {
          "base_uri": "https://localhost:8080/"
        },
        "id": "R0LxDOlf5_Hc",
        "outputId": "24b14fa3-b527-4e8b-d861-2bada26e869d"
      },
      "source": [
        "etas = [0.0001, 0.001, 0.01, 0.1, 0.3, 0.5, 0.7, 0.9, 1.0]\n",
        "\n",
        "print('eta')\n",
        "for eta in etas:\n",
        "  algorithm = XGBRegressor(objective='reg:squarederror')\n",
        "  algorithm.fit(i_train, a_trainB)\n",
        "  score = algorithm.score(i_test, a_testB)\n",
        "  print(f'score: {score:.4f}  eta: {eta}')"
      ],
      "execution_count": 26,
      "outputs": [
        {
          "output_type": "stream",
          "text": [
            "eta\n",
            "score: 0.7624  eta: 0.0001\n",
            "score: 0.7624  eta: 0.001\n",
            "score: 0.7624  eta: 0.01\n",
            "score: 0.7624  eta: 0.1\n",
            "score: 0.7624  eta: 0.3\n",
            "score: 0.7624  eta: 0.5\n",
            "score: 0.7624  eta: 0.7\n",
            "score: 0.7624  eta: 0.9\n",
            "score: 0.7624  eta: 1.0\n"
          ],
          "name": "stdout"
        }
      ]
    },
    {
      "cell_type": "markdown",
      "metadata": {
        "id": "oTKmQydYldaA"
      },
      "source": [
        "eta:0.3"
      ]
    },
    {
      "cell_type": "markdown",
      "metadata": {
        "id": "SVbUwf6O5qnz"
      },
      "source": [
        "#### [max_depth]"
      ]
    },
    {
      "cell_type": "code",
      "metadata": {
        "colab": {
          "base_uri": "https://localhost:8080/"
        },
        "id": "qsZbJfMD6TCU",
        "outputId": "01444ca6-d2c7-4ac6-93a6-f02fbfc7d045"
      },
      "source": [
        "maxDepthes = [1,2,3,4,5,6,7,8,9,10]\n",
        "\n",
        "print('max_depth')\n",
        "for d in maxDepthes:\n",
        "  algorithm = XGBRegressor(max_depth=d, objective='reg:squarederror')\n",
        "  algorithm.fit(i_train, a_trainB)\n",
        "  score = algorithm.score(i_test, a_testB)\n",
        "  print(f'score: {score:.4f}  max_depth: {d}')"
      ],
      "execution_count": 27,
      "outputs": [
        {
          "output_type": "stream",
          "text": [
            "max_depth\n",
            "score: 0.7488  max_depth: 1\n",
            "score: 0.7650  max_depth: 2\n",
            "score: 0.7624  max_depth: 3\n",
            "score: 0.7591  max_depth: 4\n",
            "score: 0.7839  max_depth: 5\n",
            "score: 0.7702  max_depth: 6\n",
            "score: 0.7662  max_depth: 7\n",
            "score: 0.7512  max_depth: 8\n",
            "score: 0.7391  max_depth: 9\n",
            "score: 0.7433  max_depth: 10\n"
          ],
          "name": "stdout"
        }
      ]
    },
    {
      "cell_type": "markdown",
      "metadata": {
        "id": "O12rKebYltWO"
      },
      "source": [
        "max_depth:5"
      ]
    },
    {
      "cell_type": "markdown",
      "metadata": {
        "id": "ActnNvQc5qf1"
      },
      "source": [
        "#### [min_child_weight]"
      ]
    },
    {
      "cell_type": "code",
      "metadata": {
        "colab": {
          "base_uri": "https://localhost:8080/"
        },
        "id": "Af9SeBVO6bUy",
        "outputId": "acc397f9-c743-4d85-803a-cdb003a78fcd"
      },
      "source": [
        "minChildWeights=[1,2,3,4,5,6,7,8,9,10,15,20,30,40,50]\n",
        "\n",
        "print('min_child_weight')\n",
        "for w in minChildWeights:\n",
        "  algorithm = XGBRegressor(min_child_weight=w, objective='reg:squarederror', max_depth=5)\n",
        "  algorithm.fit(i_train, a_trainB)\n",
        "  score = algorithm.score(i_test, a_testB)\n",
        "  print(f'score: {score:.4f}  min_child_weight: {w}')"
      ],
      "execution_count": 28,
      "outputs": [
        {
          "output_type": "stream",
          "text": [
            "min_child_weight\n",
            "score: 0.7839  min_child_weight: 1\n",
            "score: 0.7803  min_child_weight: 2\n",
            "score: 0.7679  min_child_weight: 3\n",
            "score: 0.7723  min_child_weight: 4\n",
            "score: 0.7437  min_child_weight: 5\n",
            "score: 0.7622  min_child_weight: 6\n",
            "score: 0.7604  min_child_weight: 7\n",
            "score: 0.7716  min_child_weight: 8\n",
            "score: 0.7706  min_child_weight: 9\n",
            "score: 0.7739  min_child_weight: 10\n",
            "score: 0.7764  min_child_weight: 15\n",
            "score: 0.7849  min_child_weight: 20\n",
            "score: 0.7884  min_child_weight: 30\n",
            "score: 0.8062  min_child_weight: 40\n",
            "score: 0.8015  min_child_weight: 50\n"
          ],
          "name": "stdout"
        }
      ]
    },
    {
      "cell_type": "markdown",
      "metadata": {
        "id": "9zdA59AXmKDV"
      },
      "source": [
        "min_child_weight:40"
      ]
    },
    {
      "cell_type": "markdown",
      "metadata": {
        "id": "6ATsjrYx5qQU"
      },
      "source": [
        "#### [subsample]"
      ]
    },
    {
      "cell_type": "code",
      "metadata": {
        "colab": {
          "base_uri": "https://localhost:8080/"
        },
        "id": "F7ivkFna6sC-",
        "outputId": "122aa78f-9dcf-4cb5-9f84-a31334ca7ab3"
      },
      "source": [
        "subSamples=[0.1,0.3,0.5,0.7,0.9,1]\n",
        "\n",
        "print('subsample')\n",
        "for s in subSamples:\n",
        "  algorithm = XGBRegressor(subsample=s, objective='reg:squarederror', max_depth=5, min_child_weight=40)\n",
        "  algorithm.fit(i_train, a_trainB)\n",
        "  score = algorithm.score(i_test, a_testB)\n",
        "  print(f'score: {score:.4f}  subsample: {s}')"
      ],
      "execution_count": 29,
      "outputs": [
        {
          "output_type": "stream",
          "text": [
            "subsample\n",
            "score: 0.6257  subsample: 0.1\n",
            "score: 0.7569  subsample: 0.3\n",
            "score: 0.7692  subsample: 0.5\n",
            "score: 0.7931  subsample: 0.7\n",
            "score: 0.8043  subsample: 0.9\n",
            "score: 0.8062  subsample: 1\n"
          ],
          "name": "stdout"
        }
      ]
    },
    {
      "cell_type": "markdown",
      "metadata": {
        "id": "1yQ4gX9zmPCK"
      },
      "source": [
        "subsample:1"
      ]
    },
    {
      "cell_type": "markdown",
      "metadata": {
        "id": "hDGjbvNB5qGb"
      },
      "source": [
        "#### [colsample_bytree]"
      ]
    },
    {
      "cell_type": "code",
      "metadata": {
        "colab": {
          "base_uri": "https://localhost:8080/"
        },
        "id": "SDNdwu9p65Hu",
        "outputId": "2615adaf-4d00-4a2f-f668-3e357acaabaf"
      },
      "source": [
        "colsampleBytrees=[0.1,0.3,0.5,0.7,0.9,1]\n",
        "\n",
        "print('colsample_bytree')\n",
        "for cs in colsampleBytrees:\n",
        "  algorithm = XGBRegressor(colsample_bytree=cs, objective='reg:squarederror', max_depth=5, min_child_weight=40)\n",
        "  algorithm.fit(i_train, a_trainB)\n",
        "  score = algorithm.score(i_test, a_testB)\n",
        "  print(f'score: {score:.4f}  colsample_bytree: {cs}')"
      ],
      "execution_count": 30,
      "outputs": [
        {
          "output_type": "stream",
          "text": [
            "colsample_bytree\n",
            "score: 0.7344  colsample_bytree: 0.1\n",
            "score: 0.7844  colsample_bytree: 0.3\n",
            "score: 0.7979  colsample_bytree: 0.5\n",
            "score: 0.7958  colsample_bytree: 0.7\n",
            "score: 0.8072  colsample_bytree: 0.9\n",
            "score: 0.8062  colsample_bytree: 1\n"
          ],
          "name": "stdout"
        }
      ]
    },
    {
      "cell_type": "markdown",
      "metadata": {
        "id": "tlnJ_6UOmwwz"
      },
      "source": [
        "colsample_bytree:0.9"
      ]
    },
    {
      "cell_type": "markdown",
      "metadata": {
        "id": "rK0IhKZH7HkX"
      },
      "source": [
        "### ②再検証"
      ]
    },
    {
      "cell_type": "markdown",
      "metadata": {
        "id": "OopItpbDnaKB"
      },
      "source": [
        "#### [学習・予測]"
      ]
    },
    {
      "cell_type": "code",
      "metadata": {
        "colab": {
          "base_uri": "https://localhost:8080/"
        },
        "id": "HHeZ-aK5nZ38",
        "outputId": "0c2f57a3-007d-4cfc-ce13-008186a3e440"
      },
      "source": [
        "algorithmB = XGBRegressor(objective='reg:squarederror', max_depth=5, min_child_weight=40, colsample_bytree=0.9)\n",
        "\n",
        "algorithmB.fit(i_train, a_trainB)\n",
        "a2_predB = algorithmB.predict(i_test)\n",
        "\n",
        "print(a2_predB[:5])"
      ],
      "execution_count": 31,
      "outputs": [
        {
          "output_type": "stream",
          "text": [
            "[0.0196 0.0227 0.0094 0.0095 0.0124]\n"
          ],
          "name": "stdout"
        }
      ]
    },
    {
      "cell_type": "markdown",
      "metadata": {
        "id": "BBIvVhBcnqF1"
      },
      "source": [
        "#### [評価]"
      ]
    },
    {
      "cell_type": "code",
      "metadata": {
        "colab": {
          "base_uri": "https://localhost:8080/",
          "height": 1000
        },
        "id": "67Qk9LUf7Nks",
        "outputId": "d1ea4d4c-b13d-4f5a-fe2e-dbc67ed102a0"
      },
      "source": [
        "print('再検証（内定獲得率）')\n",
        "print('-------------------------------------------------')\n",
        "print()\n",
        "\n",
        "# R2値\n",
        "scoreB = algorithmB.score(i_test, a_testB)\n",
        "\n",
        "from sklearn.metrics import r2_score\n",
        "r2_scoreB = r2_score(a_testB, a2_predB)\n",
        "\n",
        "print('R2値')\n",
        "print(f'score:{scoreB:.4f} r2_score: {r2_scoreB:.4f}')\n",
        "print('------------------------------------------------------')\n",
        "\n",
        "# 散布図\n",
        "plt.figure(figsize=(10,10))\n",
        "a2_maxB = a_testB.max()\n",
        "plt.plot((0, a2_maxB), (0, a2_maxB), c='k')\n",
        "plt.scatter(a_testB, a2_predB, c='b')\n",
        "plt.title(f'正解データと予測結果の散布図（内定獲得率） R2={scoreB:.4f}')\n",
        "plt.grid()\n",
        "plt.show()\n",
        "print('------------------------------------------------------')\n",
        "\n",
        "# 重要度分析\n",
        "import xgboost as xgb\n",
        "fig, ax = plt.subplots(figsize=(20,40))\n",
        "xgb.plot_importance(algorithmB, ax=ax, height=0.8, importance_type='gain',\n",
        "                    show_values=False, title='重要度分析')\n"
      ],
      "execution_count": 32,
      "outputs": [
        {
          "output_type": "stream",
          "text": [
            "再検証（内定獲得率）\n",
            "-------------------------------------------------\n",
            "\n",
            "R2値\n",
            "score:0.8072 r2_score: 0.8072\n",
            "------------------------------------------------------\n"
          ],
          "name": "stdout"
        },
        {
          "output_type": "display_data",
          "data": {
            "image/png": "[encoded data removed]",
            "text/plain": [
              "<Figure size 720x720 with 1 Axes>"
            ]
          },
          "metadata": {
            "tags": [],
            "needs_background": "light"
          }
        },
        {
          "output_type": "stream",
          "text": [
            "------------------------------------------------------\n"
          ],
          "name": "stdout"
        },
        {
          "output_type": "execute_result",
          "data": {
            "text/plain": [
              "<matplotlib.axes._subplots.AxesSubplot at 0x7fe806cd5490>"
            ]
          },
          "metadata": {
            "tags": []
          },
          "execution_count": 32
        },
        {
          "output_type": "display_data",
          "data": {
            "image/png": "[encoded data removed]",
            "text/plain": [
              "<Figure size 1440x2880 with 1 Axes>"
            ]
          },
          "metadata": {
            "tags": [],
            "needs_background": "light"
          }
        }
      ]
    },
    {
      "cell_type": "markdown",
      "metadata": {
        "id": "LFUHKgy5Xef0"
      },
      "source": [
        "# **9.本番データを用いた分析**"
      ]
    },
    {
      "cell_type": "markdown",
      "metadata": {
        "id": "vwlwKLYiCDC5"
      },
      "source": [
        "※本番データとは<br>\n",
        "受講生のプロフィールやご経験を広くパターン化したデータ。（年齢、性別、最終学歴、ポートフォリオ有無、正社員歴、就業状況など）<br>\n",
        "今後、自社就活支援サービスを利用する受講生を想定している。"
      ]
    },
    {
      "cell_type": "markdown",
      "metadata": {
        "id": "I41bWfRNB1ut"
      },
      "source": [
        "## （１）データ読み込み・確認・前処理"
      ]
    },
    {
      "cell_type": "code",
      "metadata": {
        "colab": {
          "base_uri": "https://localhost:8080/",
          "height": 782
        },
        "id": "FDp4zzvaAeyS",
        "outputId": "e7bf3159-cf83-472b-b48e-fe31d3a0b74d"
      },
      "source": [
        "# データ読み込み\n",
        "csvfileProduction = open('/content/drive/My Drive/programmingSchoolJobHantingRecordForPortfolioProductionData.csv', 'r', encoding='utf-8')\n",
        "\n",
        "dfP = pd.read_csv(csvfileProduction)\n",
        "\n",
        "columnsP = ['年齢','性別','最終学歴','正社員歴','就業状況','ポートフォリオ有無','マネジメント経験','難関大卒','PF高クオリティ','有名企業在籍経験','中退歴','既往歴','短期離職経験','応募数']\n",
        "dfP.columns = columnsP\n",
        "dfPOutput = dfP.copy()\n",
        "\n",
        "# データ確認\n",
        "print('データ確認')\n",
        "print()\n",
        "\n",
        "print('データフレーム表示')\n",
        "display(dfP.head())\n",
        "display(dfP.tail())\n",
        "print(dfP.shape)\n",
        "print()\n",
        "print('----------------')\n",
        "print()\n",
        "\n",
        "print('欠損値確認')\n",
        "dfP.isnull().sum()"
      ],
      "execution_count": 33,
      "outputs": [
        {
          "output_type": "stream",
          "text": [
            "データ確認\n",
            "\n",
            "データフレーム表示\n"
          ],
          "name": "stdout"
        },
        {
          "output_type": "display_data",
          "data": {
            "text/html": [
              "<div>\n",
              "<style scoped>\n",
              "    .dataframe tbody tr th:only-of-type {\n",
              "        vertical-align: middle;\n",
              "    }\n",
              "\n",
              "    .dataframe tbody tr th {\n",
              "        vertical-align: top;\n",
              "    }\n",
              "\n",
              "    .dataframe thead th {\n",
              "        text-align: right;\n",
              "    }\n",
              "</style>\n",
              "<table border=\"1\" class=\"dataframe\">\n",
              "  <thead>\n",
              "    <tr style=\"text-align: right;\">\n",
              "      <th></th>\n",
              "      <th>年齢</th>\n",
              "      <th>性別</th>\n",
              "      <th>最終学歴</th>\n",
              "      <th>正社員歴</th>\n",
              "      <th>就業状況</th>\n",
              "      <th>ポートフォリオ有無</th>\n",
              "      <th>マネジメント経験</th>\n",
              "      <th>難関大卒</th>\n",
              "      <th>PF高クオリティ</th>\n",
              "      <th>有名企業在籍経験</th>\n",
              "      <th>中退歴</th>\n",
              "      <th>既往歴</th>\n",
              "      <th>短期離職経験</th>\n",
              "      <th>応募数</th>\n",
              "    </tr>\n",
              "  </thead>\n",
              "  <tbody>\n",
              "    <tr>\n",
              "      <th>0</th>\n",
              "      <td>25</td>\n",
              "      <td>男</td>\n",
              "      <td>院卒</td>\n",
              "      <td>0</td>\n",
              "      <td>離職中</td>\n",
              "      <td>無</td>\n",
              "      <td>無</td>\n",
              "      <td>無</td>\n",
              "      <td>無</td>\n",
              "      <td>無</td>\n",
              "      <td>無</td>\n",
              "      <td>無</td>\n",
              "      <td>無</td>\n",
              "      <td>100</td>\n",
              "    </tr>\n",
              "    <tr>\n",
              "      <th>1</th>\n",
              "      <td>25</td>\n",
              "      <td>男</td>\n",
              "      <td>院卒</td>\n",
              "      <td>0</td>\n",
              "      <td>離職中</td>\n",
              "      <td>無</td>\n",
              "      <td>無</td>\n",
              "      <td>無</td>\n",
              "      <td>無</td>\n",
              "      <td>無</td>\n",
              "      <td>無</td>\n",
              "      <td>精神</td>\n",
              "      <td>無</td>\n",
              "      <td>100</td>\n",
              "    </tr>\n",
              "    <tr>\n",
              "      <th>2</th>\n",
              "      <td>25</td>\n",
              "      <td>男</td>\n",
              "      <td>院卒</td>\n",
              "      <td>0</td>\n",
              "      <td>離職中</td>\n",
              "      <td>無</td>\n",
              "      <td>無</td>\n",
              "      <td>無</td>\n",
              "      <td>無</td>\n",
              "      <td>無</td>\n",
              "      <td>無</td>\n",
              "      <td>身体</td>\n",
              "      <td>無</td>\n",
              "      <td>100</td>\n",
              "    </tr>\n",
              "    <tr>\n",
              "      <th>3</th>\n",
              "      <td>25</td>\n",
              "      <td>男</td>\n",
              "      <td>院卒</td>\n",
              "      <td>0</td>\n",
              "      <td>離職中</td>\n",
              "      <td>無</td>\n",
              "      <td>無</td>\n",
              "      <td>無</td>\n",
              "      <td>有</td>\n",
              "      <td>無</td>\n",
              "      <td>無</td>\n",
              "      <td>無</td>\n",
              "      <td>無</td>\n",
              "      <td>100</td>\n",
              "    </tr>\n",
              "    <tr>\n",
              "      <th>4</th>\n",
              "      <td>25</td>\n",
              "      <td>男</td>\n",
              "      <td>院卒</td>\n",
              "      <td>0</td>\n",
              "      <td>離職中</td>\n",
              "      <td>無</td>\n",
              "      <td>無</td>\n",
              "      <td>無</td>\n",
              "      <td>有</td>\n",
              "      <td>無</td>\n",
              "      <td>無</td>\n",
              "      <td>精神</td>\n",
              "      <td>無</td>\n",
              "      <td>100</td>\n",
              "    </tr>\n",
              "  </tbody>\n",
              "</table>\n",
              "</div>"
            ],
            "text/plain": [
              "   年齢 性別 最終学歴  正社員歴 就業状況 ポートフォリオ有無 マネジメント経験 難関大卒 PF高クオリティ 有名企業在籍経験 中退歴 既往歴  \\\n",
              "0  25  男   院卒     0  離職中         無        無    無        無        無   無   無   \n",
              "1  25  男   院卒     0  離職中         無        無    無        無        無   無  精神   \n",
              "2  25  男   院卒     0  離職中         無        無    無        無        無   無  身体   \n",
              "3  25  男   院卒     0  離職中         無        無    無        有        無   無   無   \n",
              "4  25  男   院卒     0  離職中         無        無    無        有        無   無  精神   \n",
              "\n",
              "  短期離職経験  応募数  \n",
              "0      無  100  \n",
              "1      無  100  \n",
              "2      無  100  \n",
              "3      無  100  \n",
              "4      無  100  "
            ]
          },
          "metadata": {
            "tags": []
          }
        },
        {
          "output_type": "display_data",
          "data": {
            "text/html": [
              "<div>\n",
              "<style scoped>\n",
              "    .dataframe tbody tr th:only-of-type {\n",
              "        vertical-align: middle;\n",
              "    }\n",
              "\n",
              "    .dataframe tbody tr th {\n",
              "        vertical-align: top;\n",
              "    }\n",
              "\n",
              "    .dataframe thead th {\n",
              "        text-align: right;\n",
              "    }\n",
              "</style>\n",
              "<table border=\"1\" class=\"dataframe\">\n",
              "  <thead>\n",
              "    <tr style=\"text-align: right;\">\n",
              "      <th></th>\n",
              "      <th>年齢</th>\n",
              "      <th>性別</th>\n",
              "      <th>最終学歴</th>\n",
              "      <th>正社員歴</th>\n",
              "      <th>就業状況</th>\n",
              "      <th>ポートフォリオ有無</th>\n",
              "      <th>マネジメント経験</th>\n",
              "      <th>難関大卒</th>\n",
              "      <th>PF高クオリティ</th>\n",
              "      <th>有名企業在籍経験</th>\n",
              "      <th>中退歴</th>\n",
              "      <th>既往歴</th>\n",
              "      <th>短期離職経験</th>\n",
              "      <th>応募数</th>\n",
              "    </tr>\n",
              "  </thead>\n",
              "  <tbody>\n",
              "    <tr>\n",
              "      <th>62683</th>\n",
              "      <td>35</td>\n",
              "      <td>女</td>\n",
              "      <td>中卒</td>\n",
              "      <td>8</td>\n",
              "      <td>バイト・派遣</td>\n",
              "      <td>有</td>\n",
              "      <td>有</td>\n",
              "      <td>無</td>\n",
              "      <td>有</td>\n",
              "      <td>無</td>\n",
              "      <td>無</td>\n",
              "      <td>精神</td>\n",
              "      <td>有</td>\n",
              "      <td>100</td>\n",
              "    </tr>\n",
              "    <tr>\n",
              "      <th>62684</th>\n",
              "      <td>35</td>\n",
              "      <td>女</td>\n",
              "      <td>中卒</td>\n",
              "      <td>8</td>\n",
              "      <td>バイト・派遣</td>\n",
              "      <td>有</td>\n",
              "      <td>有</td>\n",
              "      <td>無</td>\n",
              "      <td>有</td>\n",
              "      <td>無</td>\n",
              "      <td>無</td>\n",
              "      <td>身体</td>\n",
              "      <td>有</td>\n",
              "      <td>100</td>\n",
              "    </tr>\n",
              "    <tr>\n",
              "      <th>62685</th>\n",
              "      <td>35</td>\n",
              "      <td>女</td>\n",
              "      <td>中卒</td>\n",
              "      <td>8</td>\n",
              "      <td>バイト・派遣</td>\n",
              "      <td>有</td>\n",
              "      <td>有</td>\n",
              "      <td>無</td>\n",
              "      <td>有</td>\n",
              "      <td>無</td>\n",
              "      <td>有</td>\n",
              "      <td>無</td>\n",
              "      <td>有</td>\n",
              "      <td>100</td>\n",
              "    </tr>\n",
              "    <tr>\n",
              "      <th>62686</th>\n",
              "      <td>35</td>\n",
              "      <td>女</td>\n",
              "      <td>中卒</td>\n",
              "      <td>8</td>\n",
              "      <td>バイト・派遣</td>\n",
              "      <td>有</td>\n",
              "      <td>有</td>\n",
              "      <td>無</td>\n",
              "      <td>有</td>\n",
              "      <td>無</td>\n",
              "      <td>有</td>\n",
              "      <td>精神</td>\n",
              "      <td>有</td>\n",
              "      <td>100</td>\n",
              "    </tr>\n",
              "    <tr>\n",
              "      <th>62687</th>\n",
              "      <td>35</td>\n",
              "      <td>女</td>\n",
              "      <td>中卒</td>\n",
              "      <td>8</td>\n",
              "      <td>バイト・派遣</td>\n",
              "      <td>有</td>\n",
              "      <td>有</td>\n",
              "      <td>無</td>\n",
              "      <td>有</td>\n",
              "      <td>無</td>\n",
              "      <td>有</td>\n",
              "      <td>身体</td>\n",
              "      <td>有</td>\n",
              "      <td>100</td>\n",
              "    </tr>\n",
              "  </tbody>\n",
              "</table>\n",
              "</div>"
            ],
            "text/plain": [
              "       年齢 性別 最終学歴  正社員歴    就業状況 ポートフォリオ有無 マネジメント経験 難関大卒 PF高クオリティ 有名企業在籍経験 中退歴  \\\n",
              "62683  35  女   中卒     8  バイト・派遣         有        有    無        有        無   無   \n",
              "62684  35  女   中卒     8  バイト・派遣         有        有    無        有        無   無   \n",
              "62685  35  女   中卒     8  バイト・派遣         有        有    無        有        無   有   \n",
              "62686  35  女   中卒     8  バイト・派遣         有        有    無        有        無   有   \n",
              "62687  35  女   中卒     8  バイト・派遣         有        有    無        有        無   有   \n",
              "\n",
              "      既往歴 短期離職経験  応募数  \n",
              "62683  精神      有  100  \n",
              "62684  身体      有  100  \n",
              "62685   無      有  100  \n",
              "62686  精神      有  100  \n",
              "62687  身体      有  100  "
            ]
          },
          "metadata": {
            "tags": []
          }
        },
        {
          "output_type": "stream",
          "text": [
            "(62688, 14)\n",
            "\n",
            "----------------\n",
            "\n",
            "欠損値確認\n"
          ],
          "name": "stdout"
        },
        {
          "output_type": "execute_result",
          "data": {
            "text/plain": [
              "年齢           0\n",
              "性別           0\n",
              "最終学歴         0\n",
              "正社員歴         0\n",
              "就業状況         0\n",
              "ポートフォリオ有無    0\n",
              "マネジメント経験     0\n",
              "難関大卒         0\n",
              "PF高クオリティ     0\n",
              "有名企業在籍経験     0\n",
              "中退歴          0\n",
              "既往歴          0\n",
              "短期離職経験       0\n",
              "応募数          0\n",
              "dtype: int64"
            ]
          },
          "metadata": {
            "tags": []
          },
          "execution_count": 33
        }
      ]
    },
    {
      "cell_type": "code",
      "metadata": {
        "colab": {
          "base_uri": "https://localhost:8080/",
          "height": 238
        },
        "id": "FQOnIayAEYZ9",
        "outputId": "d63fd6a8-3dc9-4b42-a998-30520b3e0eee"
      },
      "source": [
        "# データ前処理\n",
        "# ２値ラベル数値化\n",
        "dfP['性別'] = dfP['性別'].map(mf_map)\n",
        "dfP['ポートフォリオ有無'] = dfP['ポートフォリオ有無'].map(pf_map)\n",
        "dfP['マネジメント経験'] = dfP['マネジメント経験'].map(manegement_map)\n",
        "dfP['難関大卒'] = dfP['難関大卒'].map(high_level_univ_map)\n",
        "dfP['PF高クオリティ'] = dfP['PF高クオリティ'].map(high_quality_pf_map)\n",
        "dfP['有名企業在籍経験'] = dfP['有名企業在籍経験'].map(famous_company_map)\n",
        "dfP['中退歴'] = dfP['中退歴'].map(drop_out_school_map)\n",
        "dfP['短期離職経験'] = dfP['短期離職経験'].map(quit_early_map)\n",
        "\n",
        "# 多値ラベル数値化\n",
        "dfP = enc(dfP, '最終学歴')\n",
        "dfP = enc(dfP, '就業状況')\n",
        "dfP = enc(dfP, '既往歴')\n",
        "print('ラベル数値化済みデータフレーム確認')\n",
        "display(dfP.head())"
      ],
      "execution_count": 34,
      "outputs": [
        {
          "output_type": "stream",
          "text": [
            "ラベル数値化済みデータフレーム確認\n"
          ],
          "name": "stdout"
        },
        {
          "output_type": "display_data",
          "data": {
            "text/html": [
              "<div>\n",
              "<style scoped>\n",
              "    .dataframe tbody tr th:only-of-type {\n",
              "        vertical-align: middle;\n",
              "    }\n",
              "\n",
              "    .dataframe tbody tr th {\n",
              "        vertical-align: top;\n",
              "    }\n",
              "\n",
              "    .dataframe thead th {\n",
              "        text-align: right;\n",
              "    }\n",
              "</style>\n",
              "<table border=\"1\" class=\"dataframe\">\n",
              "  <thead>\n",
              "    <tr style=\"text-align: right;\">\n",
              "      <th></th>\n",
              "      <th>年齢</th>\n",
              "      <th>性別</th>\n",
              "      <th>正社員歴</th>\n",
              "      <th>ポートフォリオ有無</th>\n",
              "      <th>マネジメント経験</th>\n",
              "      <th>難関大卒</th>\n",
              "      <th>PF高クオリティ</th>\n",
              "      <th>有名企業在籍経験</th>\n",
              "      <th>中退歴</th>\n",
              "      <th>短期離職経験</th>\n",
              "      <th>応募数</th>\n",
              "      <th>最終学歴_中卒</th>\n",
              "      <th>最終学歴_大卒</th>\n",
              "      <th>最終学歴_短大卒・専門卒</th>\n",
              "      <th>最終学歴_院卒</th>\n",
              "      <th>最終学歴_高卒</th>\n",
              "      <th>最終学歴_高専卒</th>\n",
              "      <th>就業状況_バイト・派遣</th>\n",
              "      <th>就業状況_在職中</th>\n",
              "      <th>就業状況_離職中</th>\n",
              "      <th>既往歴_無</th>\n",
              "      <th>既往歴_精神</th>\n",
              "      <th>既往歴_身体</th>\n",
              "    </tr>\n",
              "  </thead>\n",
              "  <tbody>\n",
              "    <tr>\n",
              "      <th>0</th>\n",
              "      <td>25</td>\n",
              "      <td>1</td>\n",
              "      <td>0</td>\n",
              "      <td>0</td>\n",
              "      <td>0</td>\n",
              "      <td>0</td>\n",
              "      <td>0</td>\n",
              "      <td>0</td>\n",
              "      <td>0</td>\n",
              "      <td>0</td>\n",
              "      <td>100</td>\n",
              "      <td>0</td>\n",
              "      <td>0</td>\n",
              "      <td>0</td>\n",
              "      <td>1</td>\n",
              "      <td>0</td>\n",
              "      <td>0</td>\n",
              "      <td>0</td>\n",
              "      <td>0</td>\n",
              "      <td>1</td>\n",
              "      <td>1</td>\n",
              "      <td>0</td>\n",
              "      <td>0</td>\n",
              "    </tr>\n",
              "    <tr>\n",
              "      <th>1</th>\n",
              "      <td>25</td>\n",
              "      <td>1</td>\n",
              "      <td>0</td>\n",
              "      <td>0</td>\n",
              "      <td>0</td>\n",
              "      <td>0</td>\n",
              "      <td>0</td>\n",
              "      <td>0</td>\n",
              "      <td>0</td>\n",
              "      <td>0</td>\n",
              "      <td>100</td>\n",
              "      <td>0</td>\n",
              "      <td>0</td>\n",
              "      <td>0</td>\n",
              "      <td>1</td>\n",
              "      <td>0</td>\n",
              "      <td>0</td>\n",
              "      <td>0</td>\n",
              "      <td>0</td>\n",
              "      <td>1</td>\n",
              "      <td>0</td>\n",
              "      <td>1</td>\n",
              "      <td>0</td>\n",
              "    </tr>\n",
              "    <tr>\n",
              "      <th>2</th>\n",
              "      <td>25</td>\n",
              "      <td>1</td>\n",
              "      <td>0</td>\n",
              "      <td>0</td>\n",
              "      <td>0</td>\n",
              "      <td>0</td>\n",
              "      <td>0</td>\n",
              "      <td>0</td>\n",
              "      <td>0</td>\n",
              "      <td>0</td>\n",
              "      <td>100</td>\n",
              "      <td>0</td>\n",
              "      <td>0</td>\n",
              "      <td>0</td>\n",
              "      <td>1</td>\n",
              "      <td>0</td>\n",
              "      <td>0</td>\n",
              "      <td>0</td>\n",
              "      <td>0</td>\n",
              "      <td>1</td>\n",
              "      <td>0</td>\n",
              "      <td>0</td>\n",
              "      <td>1</td>\n",
              "    </tr>\n",
              "    <tr>\n",
              "      <th>3</th>\n",
              "      <td>25</td>\n",
              "      <td>1</td>\n",
              "      <td>0</td>\n",
              "      <td>0</td>\n",
              "      <td>0</td>\n",
              "      <td>0</td>\n",
              "      <td>1</td>\n",
              "      <td>0</td>\n",
              "      <td>0</td>\n",
              "      <td>0</td>\n",
              "      <td>100</td>\n",
              "      <td>0</td>\n",
              "      <td>0</td>\n",
              "      <td>0</td>\n",
              "      <td>1</td>\n",
              "      <td>0</td>\n",
              "      <td>0</td>\n",
              "      <td>0</td>\n",
              "      <td>0</td>\n",
              "      <td>1</td>\n",
              "      <td>1</td>\n",
              "      <td>0</td>\n",
              "      <td>0</td>\n",
              "    </tr>\n",
              "    <tr>\n",
              "      <th>4</th>\n",
              "      <td>25</td>\n",
              "      <td>1</td>\n",
              "      <td>0</td>\n",
              "      <td>0</td>\n",
              "      <td>0</td>\n",
              "      <td>0</td>\n",
              "      <td>1</td>\n",
              "      <td>0</td>\n",
              "      <td>0</td>\n",
              "      <td>0</td>\n",
              "      <td>100</td>\n",
              "      <td>0</td>\n",
              "      <td>0</td>\n",
              "      <td>0</td>\n",
              "      <td>1</td>\n",
              "      <td>0</td>\n",
              "      <td>0</td>\n",
              "      <td>0</td>\n",
              "      <td>0</td>\n",
              "      <td>1</td>\n",
              "      <td>0</td>\n",
              "      <td>1</td>\n",
              "      <td>0</td>\n",
              "    </tr>\n",
              "  </tbody>\n",
              "</table>\n",
              "</div>"
            ],
            "text/plain": [
              "   年齢  性別  正社員歴  ポートフォリオ有無  マネジメント経験  難関大卒  PF高クオリティ  有名企業在籍経験  中退歴  短期離職経験  \\\n",
              "0  25   1     0          0         0     0         0         0    0       0   \n",
              "1  25   1     0          0         0     0         0         0    0       0   \n",
              "2  25   1     0          0         0     0         0         0    0       0   \n",
              "3  25   1     0          0         0     0         1         0    0       0   \n",
              "4  25   1     0          0         0     0         1         0    0       0   \n",
              "\n",
              "   応募数  最終学歴_中卒  最終学歴_大卒  最終学歴_短大卒・専門卒  最終学歴_院卒  最終学歴_高卒  最終学歴_高専卒  \\\n",
              "0  100        0        0             0        1        0         0   \n",
              "1  100        0        0             0        1        0         0   \n",
              "2  100        0        0             0        1        0         0   \n",
              "3  100        0        0             0        1        0         0   \n",
              "4  100        0        0             0        1        0         0   \n",
              "\n",
              "   就業状況_バイト・派遣  就業状況_在職中  就業状況_離職中  既往歴_無  既往歴_精神  既往歴_身体  \n",
              "0            0         0         1      1       0       0  \n",
              "1            0         0         1      0       1       0  \n",
              "2            0         0         1      0       0       1  \n",
              "3            0         0         1      1       0       0  \n",
              "4            0         0         1      0       1       0  "
            ]
          },
          "metadata": {
            "tags": []
          }
        }
      ]
    },
    {
      "cell_type": "markdown",
      "metadata": {
        "id": "XOc4wDw8EPD3"
      },
      "source": [
        "##（２）データ予測"
      ]
    },
    {
      "cell_type": "code",
      "metadata": {
        "colab": {
          "base_uri": "https://localhost:8080/"
        },
        "id": "olCO7r85FPVC",
        "outputId": "e7f00260-0d2d-4e79-8121-2eff1a66eecb"
      },
      "source": [
        "# 予測\n",
        "# 書類選考通過率\n",
        "predAProduction = algorithmA.predict(dfP)\n",
        "\n",
        "print('書類選考通過率')\n",
        "print(predAProduction[:10])\n",
        "\n",
        "print('-----------------------------------------------')\n",
        "# 内定獲得率\n",
        "\n",
        "predBProduction = algorithmB.predict(dfP)\n",
        "print('内定獲得率')\n",
        "print(predBProduction[:10])"
      ],
      "execution_count": 35,
      "outputs": [
        {
          "output_type": "stream",
          "text": [
            "書類選考通過率\n",
            "[0.278  0.2781 0.2781 0.3188 0.3189 0.3189 0.3248 0.3129 0.3129 0.3584]\n",
            "-----------------------------------------------\n",
            "内定獲得率\n",
            "[0.0172 0.0172 0.017  0.0266 0.0266 0.0264 0.0344 0.0344 0.0344 0.0396]\n"
          ],
          "name": "stdout"
        }
      ]
    },
    {
      "cell_type": "markdown",
      "metadata": {
        "id": "4k8iEvaVEclA"
      },
      "source": [
        "##（３）予測データの出力前処理"
      ]
    },
    {
      "cell_type": "code",
      "metadata": {
        "colab": {
          "base_uri": "https://localhost:8080/"
        },
        "id": "tHZTXsETH8NG",
        "outputId": "76d82d0c-22a5-44d4-da5b-438b529011cd"
      },
      "source": [
        "# データ型変更\n",
        "print(type(predAProduction))\n",
        "print(type(predBProduction))\n",
        "\n",
        "predAProductionList = predAProduction.tolist()\n",
        "print(type(predAProductionList))\n",
        "\n",
        "predBProductionList = predBProduction.tolist()\n",
        "print(type(predBProductionList))"
      ],
      "execution_count": 36,
      "outputs": [
        {
          "output_type": "stream",
          "text": [
            "<class 'numpy.ndarray'>\n",
            "<class 'numpy.ndarray'>\n",
            "<class 'list'>\n",
            "<class 'list'>\n"
          ],
          "name": "stdout"
        }
      ]
    },
    {
      "cell_type": "code",
      "metadata": {
        "id": "LPBqrLinIggz"
      },
      "source": [
        "# 出力用データフレームに目的変数の列を追加\n",
        "dfPOutput['書類選考通過率'] = predAProductionList\n",
        "dfPOutput['内定獲得率'] = predBProductionList"
      ],
      "execution_count": 37,
      "outputs": []
    },
    {
      "cell_type": "code",
      "metadata": {
        "colab": {
          "base_uri": "https://localhost:8080/",
          "height": 204
        },
        "id": "vtWC-hLpI0zx",
        "outputId": "56a954cb-71be-4faa-e52d-3b9679f6aae6"
      },
      "source": [
        "display(dfPOutput.head())"
      ],
      "execution_count": 38,
      "outputs": [
        {
          "output_type": "display_data",
          "data": {
            "text/html": [
              "<div>\n",
              "<style scoped>\n",
              "    .dataframe tbody tr th:only-of-type {\n",
              "        vertical-align: middle;\n",
              "    }\n",
              "\n",
              "    .dataframe tbody tr th {\n",
              "        vertical-align: top;\n",
              "    }\n",
              "\n",
              "    .dataframe thead th {\n",
              "        text-align: right;\n",
              "    }\n",
              "</style>\n",
              "<table border=\"1\" class=\"dataframe\">\n",
              "  <thead>\n",
              "    <tr style=\"text-align: right;\">\n",
              "      <th></th>\n",
              "      <th>年齢</th>\n",
              "      <th>性別</th>\n",
              "      <th>最終学歴</th>\n",
              "      <th>正社員歴</th>\n",
              "      <th>就業状況</th>\n",
              "      <th>ポートフォリオ有無</th>\n",
              "      <th>マネジメント経験</th>\n",
              "      <th>難関大卒</th>\n",
              "      <th>PF高クオリティ</th>\n",
              "      <th>有名企業在籍経験</th>\n",
              "      <th>中退歴</th>\n",
              "      <th>既往歴</th>\n",
              "      <th>短期離職経験</th>\n",
              "      <th>応募数</th>\n",
              "      <th>書類選考通過率</th>\n",
              "      <th>内定獲得率</th>\n",
              "    </tr>\n",
              "  </thead>\n",
              "  <tbody>\n",
              "    <tr>\n",
              "      <th>0</th>\n",
              "      <td>25</td>\n",
              "      <td>男</td>\n",
              "      <td>院卒</td>\n",
              "      <td>0</td>\n",
              "      <td>離職中</td>\n",
              "      <td>無</td>\n",
              "      <td>無</td>\n",
              "      <td>無</td>\n",
              "      <td>無</td>\n",
              "      <td>無</td>\n",
              "      <td>無</td>\n",
              "      <td>無</td>\n",
              "      <td>無</td>\n",
              "      <td>100</td>\n",
              "      <td>0.2780</td>\n",
              "      <td>0.0172</td>\n",
              "    </tr>\n",
              "    <tr>\n",
              "      <th>1</th>\n",
              "      <td>25</td>\n",
              "      <td>男</td>\n",
              "      <td>院卒</td>\n",
              "      <td>0</td>\n",
              "      <td>離職中</td>\n",
              "      <td>無</td>\n",
              "      <td>無</td>\n",
              "      <td>無</td>\n",
              "      <td>無</td>\n",
              "      <td>無</td>\n",
              "      <td>無</td>\n",
              "      <td>精神</td>\n",
              "      <td>無</td>\n",
              "      <td>100</td>\n",
              "      <td>0.2781</td>\n",
              "      <td>0.0172</td>\n",
              "    </tr>\n",
              "    <tr>\n",
              "      <th>2</th>\n",
              "      <td>25</td>\n",
              "      <td>男</td>\n",
              "      <td>院卒</td>\n",
              "      <td>0</td>\n",
              "      <td>離職中</td>\n",
              "      <td>無</td>\n",
              "      <td>無</td>\n",
              "      <td>無</td>\n",
              "      <td>無</td>\n",
              "      <td>無</td>\n",
              "      <td>無</td>\n",
              "      <td>身体</td>\n",
              "      <td>無</td>\n",
              "      <td>100</td>\n",
              "      <td>0.2781</td>\n",
              "      <td>0.0170</td>\n",
              "    </tr>\n",
              "    <tr>\n",
              "      <th>3</th>\n",
              "      <td>25</td>\n",
              "      <td>男</td>\n",
              "      <td>院卒</td>\n",
              "      <td>0</td>\n",
              "      <td>離職中</td>\n",
              "      <td>無</td>\n",
              "      <td>無</td>\n",
              "      <td>無</td>\n",
              "      <td>有</td>\n",
              "      <td>無</td>\n",
              "      <td>無</td>\n",
              "      <td>無</td>\n",
              "      <td>無</td>\n",
              "      <td>100</td>\n",
              "      <td>0.3188</td>\n",
              "      <td>0.0266</td>\n",
              "    </tr>\n",
              "    <tr>\n",
              "      <th>4</th>\n",
              "      <td>25</td>\n",
              "      <td>男</td>\n",
              "      <td>院卒</td>\n",
              "      <td>0</td>\n",
              "      <td>離職中</td>\n",
              "      <td>無</td>\n",
              "      <td>無</td>\n",
              "      <td>無</td>\n",
              "      <td>有</td>\n",
              "      <td>無</td>\n",
              "      <td>無</td>\n",
              "      <td>精神</td>\n",
              "      <td>無</td>\n",
              "      <td>100</td>\n",
              "      <td>0.3189</td>\n",
              "      <td>0.0266</td>\n",
              "    </tr>\n",
              "  </tbody>\n",
              "</table>\n",
              "</div>"
            ],
            "text/plain": [
              "   年齢 性別 最終学歴  正社員歴 就業状況 ポートフォリオ有無 マネジメント経験 難関大卒 PF高クオリティ 有名企業在籍経験 中退歴 既往歴  \\\n",
              "0  25  男   院卒     0  離職中         無        無    無        無        無   無   無   \n",
              "1  25  男   院卒     0  離職中         無        無    無        無        無   無  精神   \n",
              "2  25  男   院卒     0  離職中         無        無    無        無        無   無  身体   \n",
              "3  25  男   院卒     0  離職中         無        無    無        有        無   無   無   \n",
              "4  25  男   院卒     0  離職中         無        無    無        有        無   無  精神   \n",
              "\n",
              "  短期離職経験  応募数  書類選考通過率  内定獲得率  \n",
              "0      無  100   0.2780 0.0172  \n",
              "1      無  100   0.2781 0.0172  \n",
              "2      無  100   0.2781 0.0170  \n",
              "3      無  100   0.3188 0.0266  \n",
              "4      無  100   0.3189 0.0266  "
            ]
          },
          "metadata": {
            "tags": []
          }
        }
      ]
    },
    {
      "cell_type": "markdown",
      "metadata": {
        "id": "CVPf4G2uFSFy"
      },
      "source": [
        "## （４）予測データをスプレッドシートへ出力"
      ]
    },
    {
      "cell_type": "code",
      "metadata": {
        "id": "9YydwFLaJpkj"
      },
      "source": [
        "# スプレッドシートの読み込みのパッケージ取得\n",
        "!pip install --upgrade -q gspread"
      ],
      "execution_count": 39,
      "outputs": []
    },
    {
      "cell_type": "code",
      "metadata": {
        "id": "EC9SuRWRJ2hP"
      },
      "source": [
        "from google.colab import auth\n",
        "from oauth2client.client import GoogleCredentials\n",
        "import gspread\n",
        "\n",
        "# アクセス認証\n",
        "auth.authenticate_user()\n",
        "# スプレッドシートクライアントの取得\n",
        "gc = gspread.authorize(GoogleCredentials.get_application_default())"
      ],
      "execution_count": 40,
      "outputs": []
    },
    {
      "cell_type": "code",
      "metadata": {
        "colab": {
          "base_uri": "https://localhost:8080/"
        },
        "id": "K6yOIFA6J2Tt",
        "outputId": "0fada2b9-c273-4f37-ff46-68179a77c5bf"
      },
      "source": [
        "# スプレッドシートをマイドライブに新規作成\n",
        "sh=gc.create('本番データ出力ファイル')\n",
        "# シートを取得\n",
        "worksheet=sh.get_worksheet(0)\n",
        "#データフレームの内容をLISTに変換して書き出す\n",
        "worksheet.update([dfPOutput.columns.values.tolist()]+dfPOutput.values.tolist())"
      ],
      "execution_count": 41,
      "outputs": [
        {
          "output_type": "execute_result",
          "data": {
            "text/plain": [
              "{'spreadsheetId': '1mgWRWMwS0f-jazqCxB2lFADjnHFmrFtvRR3IIauBYoI',\n",
              " 'updatedCells': 1003024,\n",
              " 'updatedColumns': 16,\n",
              " 'updatedRange': \"'シート1'!A1:P62689\",\n",
              " 'updatedRows': 62689}"
            ]
          },
          "metadata": {
            "tags": []
          },
          "execution_count": 41
        }
      ]
    }
  ]
}